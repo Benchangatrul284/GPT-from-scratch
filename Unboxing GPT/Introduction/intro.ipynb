{
 "cells": [
  {
   "cell_type": "markdown",
   "metadata": {},
   "source": [
    "Install requirements"
   ]
  },
  {
   "cell_type": "code",
   "execution_count": 1,
   "metadata": {},
   "outputs": [
    {
     "name": "stdout",
     "output_type": "stream",
     "text": [
      "Requirement already satisfied: ipykernel in /home/nitro5_wsl/miniconda3/envs/test/lib/python3.9/site-packages (from -r requirements.txt (line 1)) (6.29.5)\n",
      "Requirement already satisfied: ipywidgets in /home/nitro5_wsl/miniconda3/envs/test/lib/python3.9/site-packages (from -r requirements.txt (line 2)) (8.1.3)\n",
      "Requirement already satisfied: torch in /home/nitro5_wsl/miniconda3/envs/test/lib/python3.9/site-packages (from -r requirements.txt (line 3)) (2.3.1)\n",
      "Requirement already satisfied: transformers in /home/nitro5_wsl/miniconda3/envs/test/lib/python3.9/site-packages (from -r requirements.txt (line 4)) (4.42.4)\n",
      "Requirement already satisfied: matplotlib in /home/nitro5_wsl/miniconda3/envs/test/lib/python3.9/site-packages (from -r requirements.txt (line 5)) (3.9.1)\n",
      "Requirement already satisfied: thop in /home/nitro5_wsl/miniconda3/envs/test/lib/python3.9/site-packages (from -r requirements.txt (line 6)) (0.1.1.post2209072238)\n",
      "Requirement already satisfied: tiktoken in /home/nitro5_wsl/miniconda3/envs/test/lib/python3.9/site-packages (from -r requirements.txt (line 7)) (0.7.0)\n",
      "Requirement already satisfied: datasets in /home/nitro5_wsl/miniconda3/envs/test/lib/python3.9/site-packages (from -r requirements.txt (line 8)) (2.20.0)\n",
      "Requirement already satisfied: accelerate in /home/nitro5_wsl/miniconda3/envs/test/lib/python3.9/site-packages (from -r requirements.txt (line 9)) (0.33.0)\n",
      "Requirement already satisfied: comm>=0.1.1 in /home/nitro5_wsl/miniconda3/envs/test/lib/python3.9/site-packages (from ipykernel->-r requirements.txt (line 1)) (0.2.2)\n",
      "Requirement already satisfied: debugpy>=1.6.5 in /home/nitro5_wsl/miniconda3/envs/test/lib/python3.9/site-packages (from ipykernel->-r requirements.txt (line 1)) (1.6.7)\n",
      "Requirement already satisfied: ipython>=7.23.1 in /home/nitro5_wsl/miniconda3/envs/test/lib/python3.9/site-packages (from ipykernel->-r requirements.txt (line 1)) (8.18.1)\n",
      "Requirement already satisfied: jupyter-client>=6.1.12 in /home/nitro5_wsl/miniconda3/envs/test/lib/python3.9/site-packages (from ipykernel->-r requirements.txt (line 1)) (8.6.2)\n",
      "Requirement already satisfied: jupyter-core!=5.0.*,>=4.12 in /home/nitro5_wsl/miniconda3/envs/test/lib/python3.9/site-packages (from ipykernel->-r requirements.txt (line 1)) (5.7.2)\n",
      "Requirement already satisfied: matplotlib-inline>=0.1 in /home/nitro5_wsl/miniconda3/envs/test/lib/python3.9/site-packages (from ipykernel->-r requirements.txt (line 1)) (0.1.7)\n",
      "Requirement already satisfied: nest-asyncio in /home/nitro5_wsl/miniconda3/envs/test/lib/python3.9/site-packages (from ipykernel->-r requirements.txt (line 1)) (1.6.0)\n",
      "Requirement already satisfied: packaging in /home/nitro5_wsl/miniconda3/envs/test/lib/python3.9/site-packages (from ipykernel->-r requirements.txt (line 1)) (24.1)\n",
      "Requirement already satisfied: psutil in /home/nitro5_wsl/miniconda3/envs/test/lib/python3.9/site-packages (from ipykernel->-r requirements.txt (line 1)) (6.0.0)\n",
      "Requirement already satisfied: pyzmq>=24 in /home/nitro5_wsl/miniconda3/envs/test/lib/python3.9/site-packages (from ipykernel->-r requirements.txt (line 1)) (25.1.2)\n",
      "Requirement already satisfied: tornado>=6.1 in /home/nitro5_wsl/miniconda3/envs/test/lib/python3.9/site-packages (from ipykernel->-r requirements.txt (line 1)) (6.4.1)\n",
      "Requirement already satisfied: traitlets>=5.4.0 in /home/nitro5_wsl/miniconda3/envs/test/lib/python3.9/site-packages (from ipykernel->-r requirements.txt (line 1)) (5.14.3)\n",
      "Requirement already satisfied: widgetsnbextension~=4.0.11 in /home/nitro5_wsl/miniconda3/envs/test/lib/python3.9/site-packages (from ipywidgets->-r requirements.txt (line 2)) (4.0.11)\n",
      "Requirement already satisfied: jupyterlab-widgets~=3.0.11 in /home/nitro5_wsl/miniconda3/envs/test/lib/python3.9/site-packages (from ipywidgets->-r requirements.txt (line 2)) (3.0.11)\n",
      "Requirement already satisfied: filelock in /home/nitro5_wsl/miniconda3/envs/test/lib/python3.9/site-packages (from torch->-r requirements.txt (line 3)) (3.15.4)\n",
      "Requirement already satisfied: typing-extensions>=4.8.0 in /home/nitro5_wsl/miniconda3/envs/test/lib/python3.9/site-packages (from torch->-r requirements.txt (line 3)) (4.12.2)\n",
      "Requirement already satisfied: sympy in /home/nitro5_wsl/miniconda3/envs/test/lib/python3.9/site-packages (from torch->-r requirements.txt (line 3)) (1.13.0)\n",
      "Requirement already satisfied: networkx in /home/nitro5_wsl/miniconda3/envs/test/lib/python3.9/site-packages (from torch->-r requirements.txt (line 3)) (3.2.1)\n",
      "Requirement already satisfied: jinja2 in /home/nitro5_wsl/miniconda3/envs/test/lib/python3.9/site-packages (from torch->-r requirements.txt (line 3)) (3.1.4)\n",
      "Requirement already satisfied: fsspec in /home/nitro5_wsl/miniconda3/envs/test/lib/python3.9/site-packages (from torch->-r requirements.txt (line 3)) (2024.5.0)\n",
      "Requirement already satisfied: nvidia-cuda-nvrtc-cu12==12.1.105 in /home/nitro5_wsl/miniconda3/envs/test/lib/python3.9/site-packages (from torch->-r requirements.txt (line 3)) (12.1.105)\n",
      "Requirement already satisfied: nvidia-cuda-runtime-cu12==12.1.105 in /home/nitro5_wsl/miniconda3/envs/test/lib/python3.9/site-packages (from torch->-r requirements.txt (line 3)) (12.1.105)\n",
      "Requirement already satisfied: nvidia-cuda-cupti-cu12==12.1.105 in /home/nitro5_wsl/miniconda3/envs/test/lib/python3.9/site-packages (from torch->-r requirements.txt (line 3)) (12.1.105)\n",
      "Requirement already satisfied: nvidia-cudnn-cu12==8.9.2.26 in /home/nitro5_wsl/miniconda3/envs/test/lib/python3.9/site-packages (from torch->-r requirements.txt (line 3)) (8.9.2.26)\n",
      "Requirement already satisfied: nvidia-cublas-cu12==12.1.3.1 in /home/nitro5_wsl/miniconda3/envs/test/lib/python3.9/site-packages (from torch->-r requirements.txt (line 3)) (12.1.3.1)\n",
      "Requirement already satisfied: nvidia-cufft-cu12==11.0.2.54 in /home/nitro5_wsl/miniconda3/envs/test/lib/python3.9/site-packages (from torch->-r requirements.txt (line 3)) (11.0.2.54)\n",
      "Requirement already satisfied: nvidia-curand-cu12==10.3.2.106 in /home/nitro5_wsl/miniconda3/envs/test/lib/python3.9/site-packages (from torch->-r requirements.txt (line 3)) (10.3.2.106)\n",
      "Requirement already satisfied: nvidia-cusolver-cu12==11.4.5.107 in /home/nitro5_wsl/miniconda3/envs/test/lib/python3.9/site-packages (from torch->-r requirements.txt (line 3)) (11.4.5.107)\n",
      "Requirement already satisfied: nvidia-cusparse-cu12==12.1.0.106 in /home/nitro5_wsl/miniconda3/envs/test/lib/python3.9/site-packages (from torch->-r requirements.txt (line 3)) (12.1.0.106)\n",
      "Requirement already satisfied: nvidia-nccl-cu12==2.20.5 in /home/nitro5_wsl/miniconda3/envs/test/lib/python3.9/site-packages (from torch->-r requirements.txt (line 3)) (2.20.5)\n",
      "Requirement already satisfied: nvidia-nvtx-cu12==12.1.105 in /home/nitro5_wsl/miniconda3/envs/test/lib/python3.9/site-packages (from torch->-r requirements.txt (line 3)) (12.1.105)\n",
      "Requirement already satisfied: triton==2.3.1 in /home/nitro5_wsl/miniconda3/envs/test/lib/python3.9/site-packages (from torch->-r requirements.txt (line 3)) (2.3.1)\n",
      "Requirement already satisfied: nvidia-nvjitlink-cu12 in /home/nitro5_wsl/miniconda3/envs/test/lib/python3.9/site-packages (from nvidia-cusolver-cu12==11.4.5.107->torch->-r requirements.txt (line 3)) (12.5.82)\n",
      "Requirement already satisfied: huggingface-hub<1.0,>=0.23.2 in /home/nitro5_wsl/miniconda3/envs/test/lib/python3.9/site-packages (from transformers->-r requirements.txt (line 4)) (0.23.4)\n",
      "Requirement already satisfied: numpy<2.0,>=1.17 in /home/nitro5_wsl/miniconda3/envs/test/lib/python3.9/site-packages (from transformers->-r requirements.txt (line 4)) (1.26.4)\n",
      "Requirement already satisfied: pyyaml>=5.1 in /home/nitro5_wsl/miniconda3/envs/test/lib/python3.9/site-packages (from transformers->-r requirements.txt (line 4)) (6.0.1)\n",
      "Requirement already satisfied: regex!=2019.12.17 in /home/nitro5_wsl/miniconda3/envs/test/lib/python3.9/site-packages (from transformers->-r requirements.txt (line 4)) (2024.5.15)\n",
      "Requirement already satisfied: requests in /home/nitro5_wsl/miniconda3/envs/test/lib/python3.9/site-packages (from transformers->-r requirements.txt (line 4)) (2.32.3)\n",
      "Requirement already satisfied: safetensors>=0.4.1 in /home/nitro5_wsl/miniconda3/envs/test/lib/python3.9/site-packages (from transformers->-r requirements.txt (line 4)) (0.4.3)\n",
      "Requirement already satisfied: tokenizers<0.20,>=0.19 in /home/nitro5_wsl/miniconda3/envs/test/lib/python3.9/site-packages (from transformers->-r requirements.txt (line 4)) (0.19.1)\n",
      "Requirement already satisfied: tqdm>=4.27 in /home/nitro5_wsl/miniconda3/envs/test/lib/python3.9/site-packages (from transformers->-r requirements.txt (line 4)) (4.66.4)\n",
      "Requirement already satisfied: contourpy>=1.0.1 in /home/nitro5_wsl/miniconda3/envs/test/lib/python3.9/site-packages (from matplotlib->-r requirements.txt (line 5)) (1.2.1)\n",
      "Requirement already satisfied: cycler>=0.10 in /home/nitro5_wsl/miniconda3/envs/test/lib/python3.9/site-packages (from matplotlib->-r requirements.txt (line 5)) (0.12.1)\n",
      "Requirement already satisfied: fonttools>=4.22.0 in /home/nitro5_wsl/miniconda3/envs/test/lib/python3.9/site-packages (from matplotlib->-r requirements.txt (line 5)) (4.53.1)\n",
      "Requirement already satisfied: kiwisolver>=1.3.1 in /home/nitro5_wsl/miniconda3/envs/test/lib/python3.9/site-packages (from matplotlib->-r requirements.txt (line 5)) (1.4.5)\n",
      "Requirement already satisfied: pillow>=8 in /home/nitro5_wsl/miniconda3/envs/test/lib/python3.9/site-packages (from matplotlib->-r requirements.txt (line 5)) (10.4.0)\n",
      "Requirement already satisfied: pyparsing>=2.3.1 in /home/nitro5_wsl/miniconda3/envs/test/lib/python3.9/site-packages (from matplotlib->-r requirements.txt (line 5)) (3.1.2)\n",
      "Requirement already satisfied: python-dateutil>=2.7 in /home/nitro5_wsl/miniconda3/envs/test/lib/python3.9/site-packages (from matplotlib->-r requirements.txt (line 5)) (2.9.0)\n",
      "Requirement already satisfied: importlib-resources>=3.2.0 in /home/nitro5_wsl/miniconda3/envs/test/lib/python3.9/site-packages (from matplotlib->-r requirements.txt (line 5)) (6.4.0)\n",
      "Requirement already satisfied: pyarrow>=15.0.0 in /home/nitro5_wsl/miniconda3/envs/test/lib/python3.9/site-packages (from datasets->-r requirements.txt (line 8)) (17.0.0)\n",
      "Requirement already satisfied: pyarrow-hotfix in /home/nitro5_wsl/miniconda3/envs/test/lib/python3.9/site-packages (from datasets->-r requirements.txt (line 8)) (0.6)\n",
      "Requirement already satisfied: dill<0.3.9,>=0.3.0 in /home/nitro5_wsl/miniconda3/envs/test/lib/python3.9/site-packages (from datasets->-r requirements.txt (line 8)) (0.3.8)\n",
      "Requirement already satisfied: pandas in /home/nitro5_wsl/miniconda3/envs/test/lib/python3.9/site-packages (from datasets->-r requirements.txt (line 8)) (2.2.2)\n",
      "Requirement already satisfied: xxhash in /home/nitro5_wsl/miniconda3/envs/test/lib/python3.9/site-packages (from datasets->-r requirements.txt (line 8)) (3.4.1)\n",
      "Requirement already satisfied: multiprocess in /home/nitro5_wsl/miniconda3/envs/test/lib/python3.9/site-packages (from datasets->-r requirements.txt (line 8)) (0.70.16)\n",
      "Requirement already satisfied: aiohttp in /home/nitro5_wsl/miniconda3/envs/test/lib/python3.9/site-packages (from datasets->-r requirements.txt (line 8)) (3.9.5)\n",
      "Requirement already satisfied: aiosignal>=1.1.2 in /home/nitro5_wsl/miniconda3/envs/test/lib/python3.9/site-packages (from aiohttp->datasets->-r requirements.txt (line 8)) (1.3.1)\n",
      "Requirement already satisfied: attrs>=17.3.0 in /home/nitro5_wsl/miniconda3/envs/test/lib/python3.9/site-packages (from aiohttp->datasets->-r requirements.txt (line 8)) (23.2.0)\n",
      "Requirement already satisfied: frozenlist>=1.1.1 in /home/nitro5_wsl/miniconda3/envs/test/lib/python3.9/site-packages (from aiohttp->datasets->-r requirements.txt (line 8)) (1.4.1)\n",
      "Requirement already satisfied: multidict<7.0,>=4.5 in /home/nitro5_wsl/miniconda3/envs/test/lib/python3.9/site-packages (from aiohttp->datasets->-r requirements.txt (line 8)) (6.0.5)\n",
      "Requirement already satisfied: yarl<2.0,>=1.0 in /home/nitro5_wsl/miniconda3/envs/test/lib/python3.9/site-packages (from aiohttp->datasets->-r requirements.txt (line 8)) (1.9.4)\n",
      "Requirement already satisfied: async-timeout<5.0,>=4.0 in /home/nitro5_wsl/miniconda3/envs/test/lib/python3.9/site-packages (from aiohttp->datasets->-r requirements.txt (line 8)) (4.0.3)\n",
      "Requirement already satisfied: zipp>=3.1.0 in /home/nitro5_wsl/miniconda3/envs/test/lib/python3.9/site-packages (from importlib-resources>=3.2.0->matplotlib->-r requirements.txt (line 5)) (3.19.2)\n",
      "Requirement already satisfied: decorator in /home/nitro5_wsl/miniconda3/envs/test/lib/python3.9/site-packages (from ipython>=7.23.1->ipykernel->-r requirements.txt (line 1)) (5.1.1)\n",
      "Requirement already satisfied: jedi>=0.16 in /home/nitro5_wsl/miniconda3/envs/test/lib/python3.9/site-packages (from ipython>=7.23.1->ipykernel->-r requirements.txt (line 1)) (0.19.1)\n",
      "Requirement already satisfied: prompt-toolkit<3.1.0,>=3.0.41 in /home/nitro5_wsl/miniconda3/envs/test/lib/python3.9/site-packages (from ipython>=7.23.1->ipykernel->-r requirements.txt (line 1)) (3.0.47)\n",
      "Requirement already satisfied: pygments>=2.4.0 in /home/nitro5_wsl/miniconda3/envs/test/lib/python3.9/site-packages (from ipython>=7.23.1->ipykernel->-r requirements.txt (line 1)) (2.18.0)\n",
      "Requirement already satisfied: stack-data in /home/nitro5_wsl/miniconda3/envs/test/lib/python3.9/site-packages (from ipython>=7.23.1->ipykernel->-r requirements.txt (line 1)) (0.6.2)\n",
      "Requirement already satisfied: exceptiongroup in /home/nitro5_wsl/miniconda3/envs/test/lib/python3.9/site-packages (from ipython>=7.23.1->ipykernel->-r requirements.txt (line 1)) (1.2.2)\n",
      "Requirement already satisfied: pexpect>4.3 in /home/nitro5_wsl/miniconda3/envs/test/lib/python3.9/site-packages (from ipython>=7.23.1->ipykernel->-r requirements.txt (line 1)) (4.9.0)\n",
      "Requirement already satisfied: importlib-metadata>=4.8.3 in /home/nitro5_wsl/miniconda3/envs/test/lib/python3.9/site-packages (from jupyter-client>=6.1.12->ipykernel->-r requirements.txt (line 1)) (8.0.0)\n",
      "Requirement already satisfied: platformdirs>=2.5 in /home/nitro5_wsl/miniconda3/envs/test/lib/python3.9/site-packages (from jupyter-core!=5.0.*,>=4.12->ipykernel->-r requirements.txt (line 1)) (4.2.2)\n",
      "Requirement already satisfied: six>=1.5 in /home/nitro5_wsl/miniconda3/envs/test/lib/python3.9/site-packages (from python-dateutil>=2.7->matplotlib->-r requirements.txt (line 5)) (1.16.0)\n",
      "Requirement already satisfied: charset-normalizer<4,>=2 in /home/nitro5_wsl/miniconda3/envs/test/lib/python3.9/site-packages (from requests->transformers->-r requirements.txt (line 4)) (3.3.2)\n",
      "Requirement already satisfied: idna<4,>=2.5 in /home/nitro5_wsl/miniconda3/envs/test/lib/python3.9/site-packages (from requests->transformers->-r requirements.txt (line 4)) (3.7)\n",
      "Requirement already satisfied: urllib3<3,>=1.21.1 in /home/nitro5_wsl/miniconda3/envs/test/lib/python3.9/site-packages (from requests->transformers->-r requirements.txt (line 4)) (2.2.2)\n",
      "Requirement already satisfied: certifi>=2017.4.17 in /home/nitro5_wsl/miniconda3/envs/test/lib/python3.9/site-packages (from requests->transformers->-r requirements.txt (line 4)) (2024.7.4)\n",
      "Requirement already satisfied: MarkupSafe>=2.0 in /home/nitro5_wsl/miniconda3/envs/test/lib/python3.9/site-packages (from jinja2->torch->-r requirements.txt (line 3)) (2.1.5)\n",
      "Requirement already satisfied: pytz>=2020.1 in /home/nitro5_wsl/miniconda3/envs/test/lib/python3.9/site-packages (from pandas->datasets->-r requirements.txt (line 8)) (2024.1)\n",
      "Requirement already satisfied: tzdata>=2022.7 in /home/nitro5_wsl/miniconda3/envs/test/lib/python3.9/site-packages (from pandas->datasets->-r requirements.txt (line 8)) (2024.1)\n",
      "Requirement already satisfied: mpmath<1.4,>=1.1.0 in /home/nitro5_wsl/miniconda3/envs/test/lib/python3.9/site-packages (from sympy->torch->-r requirements.txt (line 3)) (1.3.0)\n",
      "Requirement already satisfied: parso<0.9.0,>=0.8.3 in /home/nitro5_wsl/miniconda3/envs/test/lib/python3.9/site-packages (from jedi>=0.16->ipython>=7.23.1->ipykernel->-r requirements.txt (line 1)) (0.8.4)\n",
      "Requirement already satisfied: ptyprocess>=0.5 in /home/nitro5_wsl/miniconda3/envs/test/lib/python3.9/site-packages (from pexpect>4.3->ipython>=7.23.1->ipykernel->-r requirements.txt (line 1)) (0.7.0)\n",
      "Requirement already satisfied: wcwidth in /home/nitro5_wsl/miniconda3/envs/test/lib/python3.9/site-packages (from prompt-toolkit<3.1.0,>=3.0.41->ipython>=7.23.1->ipykernel->-r requirements.txt (line 1)) (0.2.13)\n",
      "Requirement already satisfied: executing>=1.2.0 in /home/nitro5_wsl/miniconda3/envs/test/lib/python3.9/site-packages (from stack-data->ipython>=7.23.1->ipykernel->-r requirements.txt (line 1)) (2.0.1)\n",
      "Requirement already satisfied: asttokens>=2.1.0 in /home/nitro5_wsl/miniconda3/envs/test/lib/python3.9/site-packages (from stack-data->ipython>=7.23.1->ipykernel->-r requirements.txt (line 1)) (2.4.1)\n",
      "Requirement already satisfied: pure-eval in /home/nitro5_wsl/miniconda3/envs/test/lib/python3.9/site-packages (from stack-data->ipython>=7.23.1->ipykernel->-r requirements.txt (line 1)) (0.2.2)\n"
     ]
    }
   ],
   "source": [
    "! pip install -r requirements.txt"
   ]
  },
  {
   "cell_type": "markdown",
   "metadata": {},
   "source": [
    "Using huggingface transformers pipeline to generate text"
   ]
  },
  {
   "cell_type": "code",
   "execution_count": 2,
   "metadata": {},
   "outputs": [
    {
     "name": "stderr",
     "output_type": "stream",
     "text": [
      "Setting `pad_token_id` to `eos_token_id`:50256 for open-end generation.\n"
     ]
    },
    {
     "data": {
      "text/plain": [
       "[{'generated_text': 'Hello, I\\'m a language model, so you can\\'t define something in any other language. Let me introduce another topic:\\n\\nThe name \"'}]"
      ]
     },
     "execution_count": 2,
     "metadata": {},
     "output_type": "execute_result"
    }
   ],
   "source": [
    "from transformers import pipeline\n",
    "import torch\n",
    "torch.manual_seed(42)\n",
    "model_type = \"openai-community/gpt2\"\n",
    "device = \"cuda\" if torch.cuda.is_available() else \"cpu\"\n",
    "generator = pipeline(\"text-generation\", model=model_type,device=device)\n",
    "generator(\"Hello, I'm a language model,\", max_length=30, num_return_sequences=1,truncation=True)"
   ]
  },
  {
   "cell_type": "markdown",
   "metadata": {},
   "source": [
    "Split the pipeline into 2 parts\n",
    "1. Encode the text into tokens\n",
    "2. forward pass of the model\n",
    "3. decode the tokens into text\n",
    "![image](images/tokenizer.png)"
   ]
  },
  {
   "cell_type": "code",
   "execution_count": 4,
   "metadata": {},
   "outputs": [
    {
     "data": {
      "text/plain": [
       "{'input_ids': tensor([[15496,    11,   314,   716,   257,  3303,  2746,    11]],\n",
       "       device='cuda:0'), 'attention_mask': tensor([[1, 1, 1, 1, 1, 1, 1, 1]], device='cuda:0')}"
      ]
     },
     "execution_count": 4,
     "metadata": {},
     "output_type": "execute_result"
    }
   ],
   "source": [
    "from transformers import AutoTokenizer, AutoModelForCausalLM\n",
    "# Encode the text into tokens\n",
    "tokenizer = AutoTokenizer.from_pretrained(model_type,use_fast=True)\n",
    "model = AutoModelForCausalLM.from_pretrained(model_type).to(device)\n",
    "text = 'Hello, I am a language model,'\n",
    "tokens = tokenizer(text, return_tensors='pt').to(device)\n",
    "tokens"
   ]
  },
  {
   "cell_type": "code",
   "execution_count": 8,
   "metadata": {},
   "outputs": [
    {
     "data": {
      "text/plain": [
       "tensor([[15496,    11,   314,   716,   257,  3303,  2746,    11,   290,   314,\n",
       "           716,  4609,   287,  4673,   517,   546,   262,  2842,   326,  8950,\n",
       "           670,    11,   290,   703,   484,   389,   973,   287,   584,  8950]],\n",
       "       device='cuda:0')"
      ]
     },
     "execution_count": 8,
     "metadata": {},
     "output_type": "execute_result"
    }
   ],
   "source": [
    "# generation of the model\n",
    "max_length = 30\n",
    "input_ids, attention_mask = tokens['input_ids'], tokens['attention_mask']\n",
    "generation = model.generate(input_ids=input_ids,attention_mask=attention_mask, max_length=max_length, num_return_sequences=1, pad_token_id=tokenizer.eos_token_id,do_sample=True)\n",
    "generation"
   ]
  },
  {
   "cell_type": "code",
   "execution_count": 6,
   "metadata": {},
   "outputs": [
    {
     "data": {
      "text/plain": [
       "'Hello, I am a language model, a language design framework, and a language for language engineering, and also a language for analysis. Today, I'"
      ]
     },
     "execution_count": 6,
     "metadata": {},
     "output_type": "execute_result"
    }
   ],
   "source": [
    "# decode the tokens into text\n",
    "text = tokenizer.decode(generation[0], skip_special_tokens=True)\n",
    "text"
   ]
  },
  {
   "cell_type": "markdown",
   "metadata": {},
   "source": [
    "Some important parameters for language model:\n",
    "1. model_max_length: Also called context length or block size. It is the maximum number of tokens that the model can process.\n",
    "2. vocab_size: The number of tokens in the vocabulary dictionary. The larger the vocabulary size, the shorter will the token sequences be, but the model need more data to train and model will have more parameters.\n",
    "3. hidden_size : The hidden size refers to the word embedding dimension of the model.\n",
    "4. number of layers: The number of blocks (attention + feed-forward-network) in the model. The more layers, the more complex the model will be.\n",
    "\n",
    "We can investigate these parameters in the model by looking into config.json file in the model directory.\n",
    "\n",
    "\n",
    "The below is the simple comparison of llama3 and gpt2.\n",
    "\n",
    "|          | gpt2 | llama3 |\n",
    "|----------|----------|----------|\n",
    "|   model_max_length  | 1024   | 4096   |\n",
    "|  vocab_size   | 50257   | 128256   |\n",
    "| hidden_size    | 768   | 4096   |\n",
    "| number of layers    | 12  | 32  |\n",
    "| number of parameters    | 124M  | 8B  |\n",
    "\n",
    "gpt2 config file:\n",
    "https://huggingface.co/openai-community/gpt2/blob/main/config.json   \n",
    "llama3 config file:\n",
    "https://huggingface.co/meta-llama/Meta-Llama-3-8B/blob/main/config.json\n"
   ]
  }
 ],
 "metadata": {
  "kernelspec": {
   "display_name": "test",
   "language": "python",
   "name": "python3"
  },
  "language_info": {
   "codemirror_mode": {
    "name": "ipython",
    "version": 3
   },
   "file_extension": ".py",
   "mimetype": "text/x-python",
   "name": "python",
   "nbconvert_exporter": "python",
   "pygments_lexer": "ipython3",
   "version": "3.9.19"
  }
 },
 "nbformat": 4,
 "nbformat_minor": 2
}
