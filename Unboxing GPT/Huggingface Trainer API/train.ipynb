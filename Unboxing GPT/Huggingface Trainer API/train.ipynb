{
 "cells": [
  {
   "cell_type": "code",
   "execution_count": 1,
   "metadata": {},
   "outputs": [],
   "source": [
    "import torch\n",
    "from transformers import AutoTokenizer, AutoModelForCausalLM, Trainer, TrainingArguments\n",
    "from datasets import load_dataset\n",
    "# hyperparameters\n",
    "device = 'cuda' if torch.cuda.is_available() else 'cpu'\n",
    "max_length = 512\n",
    "batch_size = 4\n",
    "epochs = 3\n",
    "lr = 3e-4"
   ]
  },
  {
   "cell_type": "code",
   "execution_count": 2,
   "metadata": {},
   "outputs": [],
   "source": [
    "model = AutoModelForCausalLM.from_pretrained('HuggingFaceTB/SmolLM-135M-Instruct').to(device)\n",
    "tokenizer = AutoTokenizer.from_pretrained('HuggingFaceTB/SmolLM-135M-Instruct',use_fast=False)\n",
    "dataset = load_dataset('benchang1110/emoji-chat', split='train')"
   ]
  },
  {
   "cell_type": "code",
   "execution_count": 3,
   "metadata": {},
   "outputs": [
    {
     "name": "stdout",
     "output_type": "stream",
     "text": [
      "Before applying chat template: \n",
      "[{'content': 'The distance between two stars is 6.52 × 10^5 light years. What is the distance between the two stars in parsecs? (1 parsec = 3.26 light years)\\nAnswer Choices: (A) 2 × 10^5 (B) 4 × 10^6 (C) 5 × 10^7 (D) 7 × 10^7 (E) 9 × 10^8', 'role': 'user'}, {'content': 'The conversion between light years and parsecs involves dividing light years by a factor of 3.26.\\n6.52 × 10^5 ly / (3.26 ly/parsec) = 2 x 10^5 parsec\\n✨\\nThe answer is A. 🚀', 'role': 'assistant'}]\n",
      "\n",
      "===============================\n",
      "\n",
      "After applying chat template: \n",
      "<|im_start|>user\n",
      "The distance between two stars is 6.52 × 10^5 light years. What is the distance between the two stars in parsecs? (1 parsec = 3.26 light years)\n",
      "Answer Choices: (A) 2 × 10^5 (B) 4 × 10^6 (C) 5 × 10^7 (D) 7 × 10^7 (E) 9 × 10^8<|im_end|>\n",
      "<|im_start|>assistant\n",
      "The conversion between light years and parsecs involves dividing light years by a factor of 3.26.\n",
      "6.52 × 10^5 ly / (3.26 ly/parsec) = 2 x 10^5 parsec\n",
      "✨\n",
      "The answer is A. 🚀<|im_end|>\n",
      "\n"
     ]
    }
   ],
   "source": [
    "def apply_chat_template(batch):\n",
    "    return {\"formatted_chat\": [tokenizer.apply_chat_template(chat, tokenize=False, add_generation_prompt=False) for chat in batch[\"conversation\"]]}\n",
    "print(f'Before applying chat template: \\n{dataset[0][\"conversation\"]}')\n",
    "chat_dataset = dataset.map(apply_chat_template, batched=True)\n",
    "print(\"\\n===============================\\n\")\n",
    "print(f'After applying chat template: \\n{chat_dataset[0][\"formatted_chat\"]}')"
   ]
  },
  {
   "cell_type": "code",
   "execution_count": 4,
   "metadata": {},
   "outputs": [
    {
     "name": "stdout",
     "output_type": "stream",
     "text": [
      "The eos token id is 2\n",
      "The pad token id is 2\n",
      "The input_ids after tokenization: \n",
      "[1, 4093, 198, 504, 4052, 826, 827, 5703, 314, 216, 38, 30, 37, 34, 15493, 216, 33, 32, 78, 37, 1420, 929, 30, 1812, 314, 260, 4052, 826, 260, 827, 5703, 281, 1280, 5016, 99, 47, 365, 33, 1280, 5016, 446, 216, 35, 30, 34, 38, 1420, 929, 25, 198, 21350, 35413, 42, 365, 49, 25, 216, 34, 15493, 216, 33, 32, 78, 37, 365, 50, 25, 216, 36, 15493, 216, 33, 32, 78, 38, 365, 51, 25, 216, 37, 15493, 216, 33, 32, 78, 39, 365, 52, 25, 216, 39, 15493, 216, 33, 32, 78, 39, 365, 53, 25, 216, 41, 15493, 216, 33, 32, 78, 40, 2, 198, 1, 520, 9531, 198, 504, 9538, 826, 1420, 929, 284, 1280, 5016, 99, 3445, 15213, 1420, 929, 411, 253, 4186, 282, 216, 35, 30, 34, 38, 30, 198, 38, 30, 37, 34, 15493, 216, 33, 32, 78, 37, 12511, 2272, 365, 35, 30, 34, 38, 12511, 31, 1095, 5016, 25, 446, 216, 34, 1792, 216, 33, 32, 78, 37, 1280, 5016, 198, 38083, 118, 198, 504, 2988, 314, 330, 30, 15107, 244, 218, 2, 198]\n",
      "The attention_mask after tokenization: \n",
      "[1, 1, 1, 1, 1, 1, 1, 1, 1, 1, 1, 1, 1, 1, 1, 1, 1, 1, 1, 1, 1, 1, 1, 1, 1, 1, 1, 1, 1, 1, 1, 1, 1, 1, 1, 1, 1, 1, 1, 1, 1, 1, 1, 1, 1, 1, 1, 1, 1, 1, 1, 1, 1, 1, 1, 1, 1, 1, 1, 1, 1, 1, 1, 1, 1, 1, 1, 1, 1, 1, 1, 1, 1, 1, 1, 1, 1, 1, 1, 1, 1, 1, 1, 1, 1, 1, 1, 1, 1, 1, 1, 1, 1, 1, 1, 1, 1, 1, 1, 1, 1, 1, 1, 1, 1, 1, 1, 1, 1, 1, 1, 1, 1, 1, 1, 1, 1, 1, 1, 1, 1, 1, 1, 1, 1, 1, 1, 1, 1, 1, 1, 1, 1, 1, 1, 1, 1, 1, 1, 1, 1, 1, 1, 1, 1, 1, 1, 1, 1, 1, 1, 1, 1, 1, 1, 1, 1, 1, 1, 1, 1, 1, 1, 1, 1, 1, 1, 1, 1, 1, 1, 1, 1, 1, 1, 1, 1, 1, 1, 1, 1, 1, 1, 1, 1]\n"
     ]
    }
   ],
   "source": [
    "def tokenized_dataset(dataset):\n",
    "    return dataset.map(tokenize_function,batched=True,remove_columns=['formatted_chat'])\n",
    "\n",
    "def tokenize_function(dataset):\n",
    "    return tokenizer(dataset['formatted_chat'],padding=False,max_length=max_length,truncation=True)\n",
    "\n",
    "token_dataset = tokenized_dataset(chat_dataset)\n",
    "print(f\"The eos token id is {tokenizer.eos_token_id}\")\n",
    "print(f\"The pad token id is {tokenizer.pad_token_id}\")\n",
    "print(f'The input_ids after tokenization: \\n{token_dataset[0][\"input_ids\"]}')\n",
    "print(f'The attention_mask after tokenization: \\n{token_dataset[0][\"attention_mask\"]}')"
   ]
  },
  {
   "cell_type": "code",
   "execution_count": 5,
   "metadata": {},
   "outputs": [
    {
     "name": "stdout",
     "output_type": "stream",
     "text": [
      "The length of the training dataset: 1402\n",
      "The length of the testing dataset: 156\n"
     ]
    }
   ],
   "source": [
    "split_dataset = token_dataset.train_test_split(test_size=0.1)\n",
    "train_dataset, test_dataset = split_dataset['train'], split_dataset['test']\n",
    "print(f'The length of the training dataset: {len(train_dataset)}')\n",
    "print(f'The length of the testing dataset: {len(test_dataset)}')"
   ]
  },
  {
   "cell_type": "code",
   "execution_count": 6,
   "metadata": {},
   "outputs": [
    {
     "name": "stdout",
     "output_type": "stream",
     "text": [
      "The pad token id is:2\n",
      "The eos token id is:2\n",
      "The input_ids after collating: \n",
      "tensor([[ 504, 2988,  314,  330,   30,    2,    2,    2,    2,    2],\n",
      "        [   1,  504,  970, 2848, 6330,  314, 4167, 1535,   17,    2]])\n",
      "\n",
      "The attention_mask after collating: \n",
      "tensor([[1, 1, 1, 1, 1, 1, 0, 0, 0, 0],\n",
      "        [1, 1, 1, 1, 1, 1, 1, 1, 1, 1]])\n",
      "\n",
      "The labels after collating: \n",
      "tensor([[ 504, 2988,  314,  330,   30, -100, -100, -100, -100, -100],\n",
      "        [   1,  504,  970, 2848, 6330,  314, 4167, 1535,   17, -100]])\n",
      "\n"
     ]
    }
   ],
   "source": [
    "from transformers import DataCollatorForLanguageModeling\n",
    "\n",
    "print(f'The pad token id is:{tokenizer.pad_token_id}')\n",
    "print(f'The eos token id is:{tokenizer.eos_token_id}')\n",
    "sentences = [\"The answer is A.<|im_end|>\", \"<|im_start|>The way longer sentence is coming here!<|im_end|>\"]\n",
    "tokenized_sentences = [tokenizer(sentence) for sentence in sentences]\n",
    "# print(f'The tokenized sentences: \\n{tokenized_sentences}\\n')\n",
    "\n",
    "data_collator = DataCollatorForLanguageModeling(tokenizer=tokenizer, mlm=False)\n",
    "batch = data_collator(tokenized_sentences)\n",
    "print(f\"The input_ids after collating: \\n{batch['input_ids']}\\n\")\n",
    "print(f\"The attention_mask after collating: \\n{batch['attention_mask']}\\n\")\n",
    "print(f\"The labels after collating: \\n{batch['labels']}\\n\")"
   ]
  },
  {
   "cell_type": "code",
   "execution_count": 7,
   "metadata": {},
   "outputs": [],
   "source": [
    "from transformers import DataCollatorForLanguageModeling\n",
    "from collections.abc import Mapping\n",
    "from transformers.data.data_collator import _torch_collate_batch\n",
    "\n",
    "class CustomDataCollator(DataCollatorForLanguageModeling):\n",
    "    def torch_call(self, examples):\n",
    "        # Handle dict or lists with proper padding and conversion to tensor.\n",
    "        if isinstance(examples[0], Mapping):\n",
    "            batch = self.tokenizer.pad(examples, return_tensors=\"pt\", pad_to_multiple_of=self.pad_to_multiple_of)\n",
    "        else:\n",
    "            batch = {\n",
    "                \"input_ids\": _torch_collate_batch(examples, self.tokenizer, pad_to_multiple_of=self.pad_to_multiple_of)\n",
    "            }\n",
    "\n",
    "        # If special token mask has been preprocessed, pop it from the dict.\n",
    "        special_tokens_mask = batch.pop(\"special_tokens_mask\", None)\n",
    "        if self.mlm:\n",
    "            batch[\"input_ids\"], batch[\"labels\"] = self.torch_mask_tokens(\n",
    "                batch[\"input_ids\"], special_tokens_mask=special_tokens_mask\n",
    "            )\n",
    "        else:\n",
    "            labels = batch[\"input_ids\"].clone()\n",
    "            if self.tokenizer.pad_token_id is not None:\n",
    "                labels[batch[\"attention_mask\"] == 0] = -100\n",
    "            batch[\"labels\"] = labels\n",
    "        return batch\n"
   ]
  },
  {
   "cell_type": "code",
   "execution_count": 8,
   "metadata": {},
   "outputs": [
    {
     "name": "stdout",
     "output_type": "stream",
     "text": [
      "The tokenized sentences: \n",
      "[{'input_ids': [1, 504, 9895, 6330, 2], 'attention_mask': [1, 1, 1, 1, 1]}, {'input_ids': [1, 378, 970, 2848, 6330, 314, 4167, 216, 2], 'attention_mask': [1, 1, 1, 1, 1, 1, 1, 1, 1]}]\n",
      "\n",
      "The input_ids after collating: \n",
      "tensor([[   1,  504, 9895, 6330,    2,    2,    2,    2,    2],\n",
      "        [   1,  378,  970, 2848, 6330,  314, 4167,  216,    2]])\n",
      "\n",
      "The attention_mask after collating: \n",
      "tensor([[1, 1, 1, 1, 1, 0, 0, 0, 0],\n",
      "        [1, 1, 1, 1, 1, 1, 1, 1, 1]])\n",
      "\n",
      "The labels after collating: \n",
      "tensor([[   1,  504, 9895, 6330,    2, -100, -100, -100, -100],\n",
      "        [   1,  378,  970, 2848, 6330,  314, 4167,  216,    2]])\n",
      "\n"
     ]
    }
   ],
   "source": [
    "sentences = [\"<|im_start|>The shorter sentence<|im_end|>\", \"<|im_start|> The way longer sentence is coming <|im_end|>\"]\n",
    "tokenized_sentences = [tokenizer(sentence) for sentence in sentences]\n",
    "print(f'The tokenized sentences: \\n{tokenized_sentences}\\n')\n",
    "\n",
    "data_collator = CustomDataCollator(tokenizer=tokenizer, mlm=False)\n",
    "batch = data_collator(tokenized_sentences)\n",
    "print(f\"The input_ids after collating: \\n{batch['input_ids']}\\n\")\n",
    "print(f\"The attention_mask after collating: \\n{batch['attention_mask']}\\n\")\n",
    "print(f\"The labels after collating: \\n{batch['labels']}\\n\")"
   ]
  },
  {
   "cell_type": "code",
   "execution_count": 9,
   "metadata": {},
   "outputs": [],
   "source": [
    "add_pad_token = False\n",
    "if add_pad_token is True:\n",
    "    tokenizer.add_special_tokens({'pad_token':'<pad>'})\n",
    "    print(f'The pad token id is:{tokenizer.pad_token_id}')\n",
    "    print(f'The eos token id is:{tokenizer.eos_token_id}')\n",
    "    tokenized_sentences = [tokenizer(sentence) for sentence in sentences]\n",
    "    print(f'The tokenized sentences: \\n{tokenized_sentences}\\n')\n",
    "    data_collator = DataCollatorForLanguageModeling(tokenizer=tokenizer, mlm=False)\n",
    "    batch = data_collator(tokenized_sentences)\n",
    "    print(f\"The input_ids after collating: \\n{batch['input_ids']}\\n\")\n",
    "    print(f\"The attention_mask after collating: \\n{batch['attention_mask']}\\n\")\n",
    "    print(f\"The labels after collating: \\n{batch['labels']}\\n\")\n",
    "    # remember to retokenize the dataset after adding the special tokens or the collator will not work properly!!!\n",
    "    token_dataset = tokenized_dataset(chat_dataset)\n",
    "    split_dataset = token_dataset.train_test_split(test_size=0.1)\n",
    "    train_dataset, test_dataset = split_dataset['train'], split_dataset['test']\n",
    "    print(f'The length of the training dataset: {len(train_dataset)}')\n",
    "    print(f'The length of the testing dataset: {len(test_dataset)}')\n",
    "    model.resize_token_embeddings(len(tokenizer))\n",
    "    "
   ]
  },
  {
   "cell_type": "code",
   "execution_count": 10,
   "metadata": {},
   "outputs": [
    {
     "name": "stderr",
     "output_type": "stream",
     "text": [
      "/home/nitro5_wsl/miniconda3/envs/test/lib/python3.9/site-packages/transformers/training_args.py:1494: FutureWarning: `evaluation_strategy` is deprecated and will be removed in version 4.46 of 🤗 Transformers. Use `eval_strategy` instead\n",
      "  warnings.warn(\n"
     ]
    }
   ],
   "source": [
    "model.gradient_checkpointing_enable()\n",
    "\n",
    "training_args = TrainingArguments(\n",
    "    output_dir='checkpoint', #The output directory\n",
    "    overwrite_output_dir=True, #overwrite the content of the output directory\n",
    "    num_train_epochs=epochs, # number of training epochs\n",
    "    per_device_train_batch_size=batch_size, # batch size for training\n",
    "    per_device_eval_batch_size=batch_size,  # batch size for evaluation\n",
    "    learning_rate=lr,\n",
    "    weight_decay = 0,\n",
    "    warmup_ratio = 0.1,\n",
    "    max_grad_norm = 1.0, #gradient clipping\n",
    "    lr_scheduler_type = 'cosine',\n",
    "    fp16=True,\n",
    "    gradient_accumulation_steps=1,\n",
    "    logging_strategy=\"steps\",\n",
    "    logging_first_step=True,\n",
    "    logging_steps= 10,\n",
    "    evaluation_strategy=\"steps\",\n",
    "    save_steps = 100,\n",
    "    save_total_limit=3,\n",
    "    gradient_checkpointing=True,\n",
    "    eval_accumulation_steps=1,\n",
    "    dataloader_num_workers=16,\n",
    "    dataloader_pin_memory=False,\n",
    "    remove_unused_columns=True,\n",
    "    eval_steps = 100,\n",
    ")"
   ]
  },
  {
   "cell_type": "code",
   "execution_count": 11,
   "metadata": {},
   "outputs": [],
   "source": [
    "from transformers import TrainerCallback\n",
    "import matplotlib.pyplot as plt\n",
    "\n",
    "class LoggerCallback(TrainerCallback):\n",
    "    def __init__(self):\n",
    "        super().__init__()\n",
    "        self.train_losses = {'loss': [], 'step': []}\n",
    "        self.eval_losses = {'loss': [], 'step': []}\n",
    "    def on_log(self, args, state, control, logs=None, **kwargs):\n",
    "        \"\"\"\n",
    "        Event called after logging the last logs.\n",
    "        \"\"\"\n",
    "        if 'loss' in logs:\n",
    "            self.train_losses['loss'].append(logs['loss'])\n",
    "            self.train_losses['step'].append(state.global_step)\n",
    "        if 'eval_loss' in logs:\n",
    "            self.eval_losses['loss'].append(logs['eval_loss'])\n",
    "            self.eval_losses['step'].append(state.global_step)\n",
    "        plt.cla()\n",
    "        plt.plot(self.train_losses['step'],self.train_losses['loss'], label='train')\n",
    "        plt.plot(self.eval_losses['step'],self.eval_losses['loss'], label='eval')\n",
    "        plt.xlabel('Steps')\n",
    "        plt.ylabel('Loss')\n",
    "        plt.legend()\n",
    "        plt.savefig('loss_curve.png')"
   ]
  },
  {
   "cell_type": "code",
   "execution_count": 12,
   "metadata": {},
   "outputs": [
    {
     "name": "stderr",
     "output_type": "stream",
     "text": [
      "`use_cache=True` is incompatible with gradient checkpointing. Setting `use_cache=False`.\n",
      "/home/nitro5_wsl/miniconda3/envs/test/lib/python3.9/site-packages/torch/utils/checkpoint.py:464: UserWarning: torch.utils.checkpoint: the use_reentrant parameter should be passed explicitly. In version 2.4 we will raise an exception if use_reentrant is not passed. use_reentrant=False is recommended, but if you need to preserve the current default behavior, you can pass use_reentrant=True. Refer to docs for more details on the differences between the two variants.\n",
      "  warnings.warn(\n"
     ]
    },
    {
     "data": {
      "text/html": [
       "\n",
       "    <div>\n",
       "      \n",
       "      <progress value='1053' max='1053' style='width:300px; height:20px; vertical-align: middle;'></progress>\n",
       "      [1053/1053 09:23, Epoch 3/3]\n",
       "    </div>\n",
       "    <table border=\"1\" class=\"dataframe\">\n",
       "  <thead>\n",
       " <tr style=\"text-align: left;\">\n",
       "      <th>Step</th>\n",
       "      <th>Training Loss</th>\n",
       "      <th>Validation Loss</th>\n",
       "    </tr>\n",
       "  </thead>\n",
       "  <tbody>\n",
       "    <tr>\n",
       "      <td>100</td>\n",
       "      <td>1.462000</td>\n",
       "      <td>1.548942</td>\n",
       "    </tr>\n",
       "    <tr>\n",
       "      <td>200</td>\n",
       "      <td>1.509800</td>\n",
       "      <td>1.539081</td>\n",
       "    </tr>\n",
       "    <tr>\n",
       "      <td>300</td>\n",
       "      <td>1.625100</td>\n",
       "      <td>1.511674</td>\n",
       "    </tr>\n",
       "    <tr>\n",
       "      <td>400</td>\n",
       "      <td>1.071500</td>\n",
       "      <td>1.528288</td>\n",
       "    </tr>\n",
       "    <tr>\n",
       "      <td>500</td>\n",
       "      <td>1.228100</td>\n",
       "      <td>1.527990</td>\n",
       "    </tr>\n",
       "    <tr>\n",
       "      <td>600</td>\n",
       "      <td>0.945900</td>\n",
       "      <td>1.515440</td>\n",
       "    </tr>\n",
       "    <tr>\n",
       "      <td>700</td>\n",
       "      <td>1.215700</td>\n",
       "      <td>1.492582</td>\n",
       "    </tr>\n",
       "    <tr>\n",
       "      <td>800</td>\n",
       "      <td>0.733300</td>\n",
       "      <td>1.644121</td>\n",
       "    </tr>\n",
       "    <tr>\n",
       "      <td>900</td>\n",
       "      <td>0.700000</td>\n",
       "      <td>1.641002</td>\n",
       "    </tr>\n",
       "    <tr>\n",
       "      <td>1000</td>\n",
       "      <td>0.726400</td>\n",
       "      <td>1.650331</td>\n",
       "    </tr>\n",
       "  </tbody>\n",
       "</table><p>"
      ],
      "text/plain": [
       "<IPython.core.display.HTML object>"
      ]
     },
     "metadata": {},
     "output_type": "display_data"
    },
    {
     "name": "stderr",
     "output_type": "stream",
     "text": [
      "We detected that you are passing `past_key_values` as a tuple and this is deprecated and will be removed in v4.43. Please use an appropriate `Cache` class (https://huggingface.co/docs/transformers/v4.41.3/en/internal/generation_utils#transformers.Cache)\n",
      "/home/nitro5_wsl/miniconda3/envs/test/lib/python3.9/site-packages/torch/utils/checkpoint.py:464: UserWarning: torch.utils.checkpoint: the use_reentrant parameter should be passed explicitly. In version 2.4 we will raise an exception if use_reentrant is not passed. use_reentrant=False is recommended, but if you need to preserve the current default behavior, you can pass use_reentrant=True. Refer to docs for more details on the differences between the two variants.\n",
      "  warnings.warn(\n",
      "/home/nitro5_wsl/miniconda3/envs/test/lib/python3.9/site-packages/torch/utils/checkpoint.py:464: UserWarning: torch.utils.checkpoint: the use_reentrant parameter should be passed explicitly. In version 2.4 we will raise an exception if use_reentrant is not passed. use_reentrant=False is recommended, but if you need to preserve the current default behavior, you can pass use_reentrant=True. Refer to docs for more details on the differences between the two variants.\n",
      "  warnings.warn(\n",
      "/home/nitro5_wsl/miniconda3/envs/test/lib/python3.9/site-packages/torch/utils/checkpoint.py:464: UserWarning: torch.utils.checkpoint: the use_reentrant parameter should be passed explicitly. In version 2.4 we will raise an exception if use_reentrant is not passed. use_reentrant=False is recommended, but if you need to preserve the current default behavior, you can pass use_reentrant=True. Refer to docs for more details on the differences between the two variants.\n",
      "  warnings.warn(\n",
      "/home/nitro5_wsl/miniconda3/envs/test/lib/python3.9/site-packages/torch/utils/checkpoint.py:464: UserWarning: torch.utils.checkpoint: the use_reentrant parameter should be passed explicitly. In version 2.4 we will raise an exception if use_reentrant is not passed. use_reentrant=False is recommended, but if you need to preserve the current default behavior, you can pass use_reentrant=True. Refer to docs for more details on the differences between the two variants.\n",
      "  warnings.warn(\n",
      "/home/nitro5_wsl/miniconda3/envs/test/lib/python3.9/site-packages/torch/utils/checkpoint.py:464: UserWarning: torch.utils.checkpoint: the use_reentrant parameter should be passed explicitly. In version 2.4 we will raise an exception if use_reentrant is not passed. use_reentrant=False is recommended, but if you need to preserve the current default behavior, you can pass use_reentrant=True. Refer to docs for more details on the differences between the two variants.\n",
      "  warnings.warn(\n",
      "/home/nitro5_wsl/miniconda3/envs/test/lib/python3.9/site-packages/torch/utils/checkpoint.py:464: UserWarning: torch.utils.checkpoint: the use_reentrant parameter should be passed explicitly. In version 2.4 we will raise an exception if use_reentrant is not passed. use_reentrant=False is recommended, but if you need to preserve the current default behavior, you can pass use_reentrant=True. Refer to docs for more details on the differences between the two variants.\n",
      "  warnings.warn(\n",
      "/home/nitro5_wsl/miniconda3/envs/test/lib/python3.9/site-packages/torch/utils/checkpoint.py:464: UserWarning: torch.utils.checkpoint: the use_reentrant parameter should be passed explicitly. In version 2.4 we will raise an exception if use_reentrant is not passed. use_reentrant=False is recommended, but if you need to preserve the current default behavior, you can pass use_reentrant=True. Refer to docs for more details on the differences between the two variants.\n",
      "  warnings.warn(\n",
      "/home/nitro5_wsl/miniconda3/envs/test/lib/python3.9/site-packages/torch/utils/checkpoint.py:464: UserWarning: torch.utils.checkpoint: the use_reentrant parameter should be passed explicitly. In version 2.4 we will raise an exception if use_reentrant is not passed. use_reentrant=False is recommended, but if you need to preserve the current default behavior, you can pass use_reentrant=True. Refer to docs for more details on the differences between the two variants.\n",
      "  warnings.warn(\n",
      "/home/nitro5_wsl/miniconda3/envs/test/lib/python3.9/site-packages/torch/utils/checkpoint.py:464: UserWarning: torch.utils.checkpoint: the use_reentrant parameter should be passed explicitly. In version 2.4 we will raise an exception if use_reentrant is not passed. use_reentrant=False is recommended, but if you need to preserve the current default behavior, you can pass use_reentrant=True. Refer to docs for more details on the differences between the two variants.\n",
      "  warnings.warn(\n",
      "/home/nitro5_wsl/miniconda3/envs/test/lib/python3.9/site-packages/torch/utils/checkpoint.py:464: UserWarning: torch.utils.checkpoint: the use_reentrant parameter should be passed explicitly. In version 2.4 we will raise an exception if use_reentrant is not passed. use_reentrant=False is recommended, but if you need to preserve the current default behavior, you can pass use_reentrant=True. Refer to docs for more details on the differences between the two variants.\n",
      "  warnings.warn(\n"
     ]
    },
    {
     "data": {
      "text/plain": [
       "('emoji_chat_model/tokenizer_config.json',\n",
       " 'emoji_chat_model/special_tokens_map.json',\n",
       " 'emoji_chat_model/vocab.json',\n",
       " 'emoji_chat_model/merges.txt',\n",
       " 'emoji_chat_model/added_tokens.json')"
      ]
     },
     "execution_count": 12,
     "metadata": {},
     "output_type": "execute_result"
    },
    {
     "data": {
      "image/png": "[encoded data removed]",
      "text/plain": [
       "<Figure size 640x480 with 1 Axes>"
      ]
     },
     "metadata": {},
     "output_type": "display_data"
    }
   ],
   "source": [
    "trainer = Trainer(\n",
    "    model=model,\n",
    "    args=training_args,\n",
    "    data_collator=data_collator,\n",
    "    train_dataset=train_dataset,\n",
    "    eval_dataset=test_dataset,\n",
    "    callbacks=[LoggerCallback()]\n",
    ")\n",
    "trainer.train()\n",
    "trainer.save_model('emoji_chat_model')\n",
    "tokenizer.save_pretrained('emoji_chat_model')"
   ]
  },
  {
   "cell_type": "code",
   "execution_count": 13,
   "metadata": {},
   "outputs": [],
   "source": [
    "# test the model\n",
    "from transformers import TextStreamer, AutoTokenizer, AutoModelForCausalLM\n",
    "import torch\n",
    "torch.cuda.empty_cache()\n",
    "device = 'cuda' if torch.cuda.is_available() else 'cpu'\n",
    "use_trained = True\n",
    "if use_trained:\n",
    "    model = AutoModelForCausalLM.from_pretrained('emoji_chat_model').to(device)\n",
    "else:\n",
    "    model = AutoModelForCausalLM.from_pretrained('HuggingFaceTB/SmolLM-135M-Instruct').to(device)\n",
    "\n",
    "tokenizer = AutoTokenizer.from_pretrained('emoji_chat_model')\n",
    "streamer = TextStreamer(tokenizer)"
   ]
  },
  {
   "cell_type": "code",
   "execution_count": 14,
   "metadata": {},
   "outputs": [
    {
     "name": "stderr",
     "output_type": "stream",
     "text": [
      "The attention mask is not set and cannot be inferred from input because pad token is same as eos token.As a consequence, you may observe unexpected behavior. Please pass your input's `attention_mask` to obtain reliable results.\n"
     ]
    },
    {
     "name": "stdout",
     "output_type": "stream",
     "text": [
      "<|im_start|>user\n",
      "hello, what is your name?<|im_end|>\n",
      "<|im_start|>assistant\n",
      "😊 In this math puzzle, we need to find out how much our mysterious friend's name grows with each new person added! 🤔\n",
      "Let's reason about the multi-choice question. We know that the sum of the differences between consecutive Sophie Germano numbers (123456789) and our current number (XYZ) is 10:\n",
      "Sum = Difference\n",
      "=> 10 - 12 + 10 - 13 + 10 - 14 + 10 - 15 + 10 - 16 = 10*12+10*(13)+10-(14+(16)) = XY^2 + YX^(12)- XY^(10) 💡\n",
      "Now, let's calculate the value of XY^n for any positive integer n ⏪️. This will give us the final answer:\n",
      "Final Answer = (N * (n/10)^(-1) + (A * (n/10)^(1-p)/10) 📝\n",
      "In this case, N = 123456789, A = Y, and p = 10. So, the Final Answer would be: 🎉\n",
      "Final Answer = ((123456789)*(123456789))/(10!) 😁\n",
      "So, the Final Answer is: **((123456789)*(123456789))/(10!)** 👍<|im_end|>\n"
     ]
    }
   ],
   "source": [
    "while True:\n",
    "    prompt = input(\"Please enter your message: \")\n",
    "    if prompt == 'exit':\n",
    "        break\n",
    "    messages = [\n",
    "            {'content': prompt, 'role': 'user'},\n",
    "        ]\n",
    "    inputs = tokenizer.apply_chat_template(messages, tokenize=True, add_generation_prompt=True,return_tensors='pt',return_attention_mask=True).to(device)\n",
    "    _ = model.generate(inputs, max_length=512, streamer=streamer, num_return_sequences=1,temperature=0.6, top_p=0.92,repetition_penalty=1.2, do_sample=True, use_cache=True)"
   ]
  }
 ],
 "metadata": {
  "kernelspec": {
   "display_name": "test",
   "language": "python",
   "name": "python3"
  },
  "language_info": {
   "codemirror_mode": {
    "name": "ipython",
    "version": 3
   },
   "file_extension": ".py",
   "mimetype": "text/x-python",
   "name": "python",
   "nbconvert_exporter": "python",
   "pygments_lexer": "ipython3",
   "version": "3.9.19"
  }
 },
 "nbformat": 4,
 "nbformat_minor": 2
}
