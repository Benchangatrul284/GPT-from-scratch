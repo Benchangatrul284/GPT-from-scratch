{
 "cells": [
  {
   "cell_type": "code",
   "execution_count": 1,
   "metadata": {},
   "outputs": [],
   "source": [
    "import torch\n",
    "from transformers import AutoTokenizer, AutoModelForCausalLM, Trainer, TrainingArguments\n",
    "from datasets import load_dataset\n",
    "# hyperparameters\n",
    "device = 'cuda' if torch.cuda.is_available() else 'cpu'\n",
    "max_length = 512\n",
    "batch_size = 8\n",
    "epochs = 3\n",
    "lr = 3e-4"
   ]
  },
  {
   "cell_type": "code",
   "execution_count": 2,
   "metadata": {},
   "outputs": [],
   "source": [
    "model = AutoModelForCausalLM.from_pretrained('HuggingFaceTB/SmolLM-135M-Instruct').to(device)\n",
    "tokenizer = AutoTokenizer.from_pretrained('HuggingFaceTB/SmolLM-135M-Instruct')\n",
    "dataset = load_dataset('benchang1110/emoji-chat', split='train')"
   ]
  },
  {
   "cell_type": "code",
   "execution_count": 3,
   "metadata": {},
   "outputs": [
    {
     "name": "stdout",
     "output_type": "stream",
     "text": [
      "Before applying chat template: \n",
      "[{'content': 'The distance between two stars is 6.52 × 10^5 light years. What is the distance between the two stars in parsecs? (1 parsec = 3.26 light years)\\nAnswer Choices: (A) 2 × 10^5 (B) 4 × 10^6 (C) 5 × 10^7 (D) 7 × 10^7 (E) 9 × 10^8', 'role': 'user'}, {'content': 'The conversion between light years and parsecs involves dividing light years by a factor of 3.26.\\n6.52 × 10^5 ly / (3.26 ly/parsec) = 2 x 10^5 parsec\\n✨\\nThe answer is A. 🚀', 'role': 'assistant'}]\n",
      "\n",
      "===============================\n",
      "\n",
      "After applying chat template: \n",
      "<|im_start|>user\n",
      "The distance between two stars is 6.52 × 10^5 light years. What is the distance between the two stars in parsecs? (1 parsec = 3.26 light years)\n",
      "Answer Choices: (A) 2 × 10^5 (B) 4 × 10^6 (C) 5 × 10^7 (D) 7 × 10^7 (E) 9 × 10^8<|im_end|>\n",
      "<|im_start|>assistant\n",
      "The conversion between light years and parsecs involves dividing light years by a factor of 3.26.\n",
      "6.52 × 10^5 ly / (3.26 ly/parsec) = 2 x 10^5 parsec\n",
      "✨\n",
      "The answer is A. 🚀<|im_end|>\n",
      "\n"
     ]
    }
   ],
   "source": [
    "def apply_chat_template(batch):\n",
    "    return {\"formatted_chat\": [tokenizer.apply_chat_template(chat, tokenize=False, add_generation_prompt=False) for chat in batch[\"conversation\"]]}\n",
    "print(f'Before applying chat template: \\n{dataset[0][\"conversation\"]}')\n",
    "chat_dataset = dataset.map(apply_chat_template, batched=True)\n",
    "print(\"\\n===============================\\n\")\n",
    "print(f'After applying chat template: \\n{chat_dataset[0][\"formatted_chat\"]}')"
   ]
  },
  {
   "cell_type": "code",
   "execution_count": 4,
   "metadata": {},
   "outputs": [
    {
     "name": "stdout",
     "output_type": "stream",
     "text": [
      "The input_ids after tokenization: \n",
      "[1, 4093, 198, 504, 4052, 826, 827, 5703, 314, 216, 38, 30, 37, 34, 15493, 216, 33, 32, 78, 37, 1420, 929, 30, 1812, 314, 260, 4052, 826, 260, 827, 5703, 281, 1280, 5016, 99, 47, 365, 33, 1280, 5016, 446, 216, 35, 30, 34, 38, 1420, 929, 25, 198, 21350, 35413, 42, 365, 49, 25, 216, 34, 15493, 216, 33, 32, 78, 37, 365, 50, 25, 216, 36, 15493, 216, 33, 32, 78, 38, 365, 51, 25, 216, 37, 15493, 216, 33, 32, 78, 39, 365, 52, 25, 216, 39, 15493, 216, 33, 32, 78, 39, 365, 53, 25, 216, 41, 15493, 216, 33, 32, 78, 40, 2, 198, 1, 520, 9531, 198, 504, 9538, 826, 1420, 929, 284, 1280, 5016, 99, 3445, 15213, 1420, 929, 411, 253, 4186, 282, 216, 35, 30, 34, 38, 30, 198, 38, 30, 37, 34, 15493, 216, 33, 32, 78, 37, 12511, 2272, 365, 35, 30, 34, 38, 12511, 31, 1095, 5016, 25, 446, 216, 34, 1792, 216, 33, 32, 78, 37, 1280, 5016, 198, 38083, 118, 198, 504, 2988, 314, 330, 30, 15107, 244, 218, 2, 198]\n",
      "The attention_mask after tokenization: \n",
      "[1, 1, 1, 1, 1, 1, 1, 1, 1, 1, 1, 1, 1, 1, 1, 1, 1, 1, 1, 1, 1, 1, 1, 1, 1, 1, 1, 1, 1, 1, 1, 1, 1, 1, 1, 1, 1, 1, 1, 1, 1, 1, 1, 1, 1, 1, 1, 1, 1, 1, 1, 1, 1, 1, 1, 1, 1, 1, 1, 1, 1, 1, 1, 1, 1, 1, 1, 1, 1, 1, 1, 1, 1, 1, 1, 1, 1, 1, 1, 1, 1, 1, 1, 1, 1, 1, 1, 1, 1, 1, 1, 1, 1, 1, 1, 1, 1, 1, 1, 1, 1, 1, 1, 1, 1, 1, 1, 1, 1, 1, 1, 1, 1, 1, 1, 1, 1, 1, 1, 1, 1, 1, 1, 1, 1, 1, 1, 1, 1, 1, 1, 1, 1, 1, 1, 1, 1, 1, 1, 1, 1, 1, 1, 1, 1, 1, 1, 1, 1, 1, 1, 1, 1, 1, 1, 1, 1, 1, 1, 1, 1, 1, 1, 1, 1, 1, 1, 1, 1, 1, 1, 1, 1, 1, 1, 1, 1, 1, 1, 1, 1, 1, 1, 1, 1]\n"
     ]
    }
   ],
   "source": [
    "def tokenized_dataset(dataset):\n",
    "    return dataset.map(tokenize_function,batched=True,remove_columns=['formatted_chat'])\n",
    "\n",
    "def tokenize_function(dataset):\n",
    "    return tokenizer(dataset['formatted_chat'],padding=False,max_length=max_length,truncation=True)\n",
    "\n",
    "token_dataset = tokenized_dataset(chat_dataset)\n",
    "print(f'The input_ids after tokenization: \\n{token_dataset[0][\"input_ids\"]}')\n",
    "print(f'The attention_mask after tokenization: \\n{token_dataset[0][\"attention_mask\"]}')"
   ]
  },
  {
   "cell_type": "code",
   "execution_count": 5,
   "metadata": {},
   "outputs": [
    {
     "name": "stdout",
     "output_type": "stream",
     "text": [
      "The length of the training dataset: 1402\n",
      "The length of the testing dataset: 156\n"
     ]
    }
   ],
   "source": [
    "split_dataset = token_dataset.train_test_split(test_size=0.1)\n",
    "train_dataset, test_dataset = split_dataset['train'], split_dataset['test']\n",
    "print(f'The length of the training dataset: {len(train_dataset)}')\n",
    "print(f'The length of the testing dataset: {len(test_dataset)}')"
   ]
  },
  {
   "cell_type": "code",
   "execution_count": 6,
   "metadata": {},
   "outputs": [
    {
     "name": "stderr",
     "output_type": "stream",
     "text": [
      "/home/nitro5_wsl/miniconda3/envs/test/lib/python3.9/site-packages/transformers/training_args.py:1494: FutureWarning: `evaluation_strategy` is deprecated and will be removed in version 4.46 of 🤗 Transformers. Use `eval_strategy` instead\n",
      "  warnings.warn(\n"
     ]
    }
   ],
   "source": [
    "from transformers import DataCollatorForLanguageModeling, default_data_collator\n",
    "\n",
    "data_collator = DataCollatorForLanguageModeling(tokenizer=tokenizer, mlm=False) # Inputs are dynamically padded to the maximum length of a batch if theyare not all of the same length.\n",
    "\n",
    "model.gradient_checkpointing_enable()\n",
    "\n",
    "training_args = TrainingArguments(\n",
    "    output_dir='checkpoint', #The output directory\n",
    "    overwrite_output_dir=True, #overwrite the content of the output directory\n",
    "    num_train_epochs=epochs, # number of training epochs\n",
    "    per_device_train_batch_size=batch_size, # batch size for training\n",
    "    per_device_eval_batch_size=batch_size,  # batch size for evaluation\n",
    "    learning_rate=lr,\n",
    "    weight_decay = 0,\n",
    "    warmup_ratio = 0.1,\n",
    "    max_grad_norm = 1.0, #gradient clipping\n",
    "    lr_scheduler_type = 'cosine',\n",
    "    fp16=True,\n",
    "    gradient_accumulation_steps=1,\n",
    "    logging_strategy=\"steps\",\n",
    "    logging_first_step=True,\n",
    "    logging_steps= 10,\n",
    "    evaluation_strategy=\"steps\",\n",
    "    save_steps = 100,\n",
    "    save_total_limit=3,\n",
    "    gradient_checkpointing=True,\n",
    "    eval_accumulation_steps=1,\n",
    "    dataloader_num_workers=16,\n",
    "    dataloader_pin_memory=False,\n",
    "    remove_unused_columns=True,\n",
    "    eval_steps = 100,\n",
    ")"
   ]
  },
  {
   "cell_type": "code",
   "execution_count": 7,
   "metadata": {},
   "outputs": [],
   "source": [
    "from transformers import TrainerCallback\n",
    "import matplotlib.pyplot as plt\n",
    "\n",
    "class LoggerCallback(TrainerCallback):\n",
    "    def __init__(self):\n",
    "        super().__init__()\n",
    "        self.train_losses = {'loss': [], 'step': []}\n",
    "        self.eval_losses = {'loss': [], 'step': []}\n",
    "    def on_log(self, args, state, control, logs=None, **kwargs):\n",
    "        \"\"\"\n",
    "        Event called after logging the last logs.\n",
    "        \"\"\"\n",
    "        if 'loss' in logs:\n",
    "            self.train_losses['loss'].append(logs['loss'])\n",
    "            self.train_losses['step'].append(state.global_step)\n",
    "        if 'eval_loss' in logs:\n",
    "            self.eval_losses['loss'].append(logs['eval_loss'])\n",
    "            self.eval_losses['step'].append(state.global_step)\n",
    "        plt.cla()\n",
    "        plt.plot(self.train_losses['step'],self.train_losses['loss'], label='train')\n",
    "        plt.plot(self.eval_losses['step'],self.eval_losses['loss'], label='eval')\n",
    "        plt.xlabel('Steps')\n",
    "        plt.ylabel('Loss')\n",
    "        plt.legend()\n",
    "        plt.savefig('loss_curve.png')"
   ]
  },
  {
   "cell_type": "code",
   "execution_count": 8,
   "metadata": {},
   "outputs": [
    {
     "name": "stderr",
     "output_type": "stream",
     "text": [
      "`use_cache=True` is incompatible with gradient checkpointing. Setting `use_cache=False`.\n",
      "/home/nitro5_wsl/miniconda3/envs/test/lib/python3.9/site-packages/torch/utils/checkpoint.py:464: UserWarning: torch.utils.checkpoint: the use_reentrant parameter should be passed explicitly. In version 2.4 we will raise an exception if use_reentrant is not passed. use_reentrant=False is recommended, but if you need to preserve the current default behavior, you can pass use_reentrant=True. Refer to docs for more details on the differences between the two variants.\n",
      "  warnings.warn(\n"
     ]
    },
    {
     "data": {
      "text/html": [
       "\n",
       "    <div>\n",
       "      \n",
       "      <progress value='528' max='528' style='width:300px; height:20px; vertical-align: middle;'></progress>\n",
       "      [528/528 13:04, Epoch 3/3]\n",
       "    </div>\n",
       "    <table border=\"1\" class=\"dataframe\">\n",
       "  <thead>\n",
       " <tr style=\"text-align: left;\">\n",
       "      <th>Step</th>\n",
       "      <th>Training Loss</th>\n",
       "      <th>Validation Loss</th>\n",
       "    </tr>\n",
       "  </thead>\n",
       "  <tbody>\n",
       "    <tr>\n",
       "      <td>100</td>\n",
       "      <td>1.504900</td>\n",
       "      <td>1.520210</td>\n",
       "    </tr>\n",
       "    <tr>\n",
       "      <td>200</td>\n",
       "      <td>1.087800</td>\n",
       "      <td>1.508338</td>\n",
       "    </tr>\n",
       "    <tr>\n",
       "      <td>300</td>\n",
       "      <td>1.057800</td>\n",
       "      <td>1.501140</td>\n",
       "    </tr>\n",
       "    <tr>\n",
       "      <td>400</td>\n",
       "      <td>0.719400</td>\n",
       "      <td>1.598814</td>\n",
       "    </tr>\n",
       "    <tr>\n",
       "      <td>500</td>\n",
       "      <td>0.756500</td>\n",
       "      <td>1.597129</td>\n",
       "    </tr>\n",
       "  </tbody>\n",
       "</table><p>"
      ],
      "text/plain": [
       "<IPython.core.display.HTML object>"
      ]
     },
     "metadata": {},
     "output_type": "display_data"
    },
    {
     "name": "stderr",
     "output_type": "stream",
     "text": [
      "We detected that you are passing `past_key_values` as a tuple and this is deprecated and will be removed in v4.43. Please use an appropriate `Cache` class (https://huggingface.co/docs/transformers/v4.41.3/en/internal/generation_utils#transformers.Cache)\n",
      "/home/nitro5_wsl/miniconda3/envs/test/lib/python3.9/site-packages/torch/utils/checkpoint.py:464: UserWarning: torch.utils.checkpoint: the use_reentrant parameter should be passed explicitly. In version 2.4 we will raise an exception if use_reentrant is not passed. use_reentrant=False is recommended, but if you need to preserve the current default behavior, you can pass use_reentrant=True. Refer to docs for more details on the differences between the two variants.\n",
      "  warnings.warn(\n",
      "/home/nitro5_wsl/miniconda3/envs/test/lib/python3.9/site-packages/torch/utils/checkpoint.py:464: UserWarning: torch.utils.checkpoint: the use_reentrant parameter should be passed explicitly. In version 2.4 we will raise an exception if use_reentrant is not passed. use_reentrant=False is recommended, but if you need to preserve the current default behavior, you can pass use_reentrant=True. Refer to docs for more details on the differences between the two variants.\n",
      "  warnings.warn(\n",
      "/home/nitro5_wsl/miniconda3/envs/test/lib/python3.9/site-packages/torch/utils/checkpoint.py:464: UserWarning: torch.utils.checkpoint: the use_reentrant parameter should be passed explicitly. In version 2.4 we will raise an exception if use_reentrant is not passed. use_reentrant=False is recommended, but if you need to preserve the current default behavior, you can pass use_reentrant=True. Refer to docs for more details on the differences between the two variants.\n",
      "  warnings.warn(\n",
      "/home/nitro5_wsl/miniconda3/envs/test/lib/python3.9/site-packages/torch/utils/checkpoint.py:464: UserWarning: torch.utils.checkpoint: the use_reentrant parameter should be passed explicitly. In version 2.4 we will raise an exception if use_reentrant is not passed. use_reentrant=False is recommended, but if you need to preserve the current default behavior, you can pass use_reentrant=True. Refer to docs for more details on the differences between the two variants.\n",
      "  warnings.warn(\n",
      "/home/nitro5_wsl/miniconda3/envs/test/lib/python3.9/site-packages/torch/utils/checkpoint.py:464: UserWarning: torch.utils.checkpoint: the use_reentrant parameter should be passed explicitly. In version 2.4 we will raise an exception if use_reentrant is not passed. use_reentrant=False is recommended, but if you need to preserve the current default behavior, you can pass use_reentrant=True. Refer to docs for more details on the differences between the two variants.\n",
      "  warnings.warn(\n"
     ]
    },
    {
     "data": {
      "text/plain": [
       "('emoji_chat_model/tokenizer_config.json',\n",
       " 'emoji_chat_model/special_tokens_map.json',\n",
       " 'emoji_chat_model/vocab.json',\n",
       " 'emoji_chat_model/merges.txt',\n",
       " 'emoji_chat_model/added_tokens.json',\n",
       " 'emoji_chat_model/tokenizer.json')"
      ]
     },
     "execution_count": 8,
     "metadata": {},
     "output_type": "execute_result"
    },
    {
     "data": {
      "image/png": "[encoded data removed]",
      "text/plain": [
       "<Figure size 640x480 with 1 Axes>"
      ]
     },
     "metadata": {},
     "output_type": "display_data"
    }
   ],
   "source": [
    "trainer = Trainer(\n",
    "    model=model,\n",
    "    args=training_args,\n",
    "    data_collator=data_collator,\n",
    "    train_dataset=train_dataset,\n",
    "    eval_dataset=test_dataset,\n",
    "    callbacks=[LoggerCallback()]\n",
    ")\n",
    "trainer.train()\n",
    "trainer.save_model('emoji_chat_model')\n",
    "tokenizer.save_pretrained('emoji_chat_model')"
   ]
  },
  {
   "cell_type": "code",
   "execution_count": 19,
   "metadata": {},
   "outputs": [],
   "source": [
    "# test the model\n",
    "from transformers import TextStreamer, AutoTokenizer, AutoModelForCausalLM\n",
    "import torch\n",
    "torch.cuda.empty_cache()\n",
    "device = 'cuda' if torch.cuda.is_available() else 'cpu'\n",
    "use_trained = False\n",
    "if use_trained:\n",
    "    model = AutoModelForCausalLM.from_pretrained('emoji_chat_model').to(device)\n",
    "else:\n",
    "    model = AutoModelForCausalLM.from_pretrained('HuggingFaceTB/SmolLM-135M-Instruct').to(device)\n",
    "\n",
    "tokenizer = AutoTokenizer.from_pretrained('emoji_chat_model')\n",
    "streamer = TextStreamer(tokenizer)"
   ]
  },
  {
   "cell_type": "code",
   "execution_count": 20,
   "metadata": {},
   "outputs": [
    {
     "name": "stdout",
     "output_type": "stream",
     "text": [
      "<|im_start|>user\n",
      "You are a language model, are you?<|im_end|>\n",
      "<|im_start|>assistant\n",
      "Yes. The function $L(n) = \\sum_{i=0}^{\\lfloor n/2 \\rfloor} i^3$ is an integer-valued function that represents the number of possible input strings in the language L with length 1 or more. It can be calculated using the following formula:\n",
      "$$L(n) = \\frac{(\\log_e N - 1)^3}{\\ln (N)} + \\frac{\\pi}{4}\\left[\\exp(-3/\\epsilon)\\right]^{-\\frac{5}{6}}$$\n",
      "where $\\mathcal{O}(x)$ denotes an $o(x)$ term and $\\limsup_{h \\to 0}$ means convergence to infinity when taking limits as $h$ approaches zero from both sides. This expression provides information about the growth rate of the number of possible inputs for any given size of L.<|im_end|>\n"
     ]
    }
   ],
   "source": [
    "while True:\n",
    "    prompt = input(\"Please enter your message: \")\n",
    "    if prompt == 'exit':\n",
    "        break\n",
    "    messages = [\n",
    "            {'content': prompt, 'role': 'user'},\n",
    "        ]\n",
    "    inputs = tokenizer.apply_chat_template(messages, tokenize=True, add_generation_prompt=True,return_tensors='pt',return_attention_mask=True).to(device)\n",
    "    _ = model.generate(inputs, max_length=512, streamer=streamer, num_return_sequences=1,temperature=0.6, top_p=0.92,repetition_penalty=1.2, do_sample=True, use_cache=True)"
   ]
  }
 ],
 "metadata": {
  "kernelspec": {
   "display_name": "test",
   "language": "python",
   "name": "python3"
  },
  "language_info": {
   "codemirror_mode": {
    "name": "ipython",
    "version": 3
   },
   "file_extension": ".py",
   "mimetype": "text/x-python",
   "name": "python",
   "nbconvert_exporter": "python",
   "pygments_lexer": "ipython3",
   "version": "3.9.19"
  }
 },
 "nbformat": 4,
 "nbformat_minor": 2
}
