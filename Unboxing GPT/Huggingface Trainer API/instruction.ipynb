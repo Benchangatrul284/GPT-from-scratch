{
 "cells": [
  {
   "cell_type": "code",
   "execution_count": 1,
   "metadata": {},
   "outputs": [],
   "source": [
    "import torch\n",
    "from transformers import AutoTokenizer, AutoModelForCausalLM, Trainer, TrainingArguments\n",
    "from datasets import load_dataset\n",
    "# hyperparameters\n",
    "device = 'cuda' if torch.cuda.is_available() else 'cpu'\n",
    "max_length = 512\n",
    "batch_size = 8\n",
    "epochs = 3\n",
    "lr = 3e-4"
   ]
  },
  {
   "cell_type": "code",
   "execution_count": 2,
   "metadata": {},
   "outputs": [],
   "source": [
    "model = AutoModelForCausalLM.from_pretrained('HuggingFaceTB/SmolLM-135M-Instruct').to(device)\n",
    "tokenizer = AutoTokenizer.from_pretrained('HuggingFaceTB/SmolLM-135M-Instruct',use_fast=True)\n",
    "dataset = load_dataset('benchang1110/emoji-chat', split='train')"
   ]
  },
  {
   "cell_type": "code",
   "execution_count": 3,
   "metadata": {},
   "outputs": [],
   "source": [
    "def tokenize_function(sample):\n",
    "    \"\"\"\n",
    "    apply chat template to the chat and tokenize the chat\n",
    "    retrun batch['input_ids'], batch['attention_mask'], batch['labels']\n",
    "    \"\"\"\n",
    "    model_input = dict()\n",
    "    model_input['input_ids'] = tokenizer.apply_chat_template(sample['conversation'], \n",
    "                                                             tokenize=True, add_generation_prompt=False,\n",
    "                                                             max_length=max_length, truncation=True)\n",
    "    model_input['attention_mask'] = [1] * len(model_input['input_ids'])\n",
    "    prompt_ids = tokenizer.apply_chat_template(sample['conversation'][:-1], \n",
    "                                               tokenize=True, add_generation_prompt=True, \n",
    "                                               max_length=max_length, truncation=True)\n",
    "    num_tokens_ignore = len(prompt_ids)\n",
    "    ignored_tokens = [-100] * (num_tokens_ignore)\n",
    "    \n",
    "    # Copy over the ids for the desired agent response\n",
    "    model_input['labels'] = ignored_tokens + model_input['input_ids'][num_tokens_ignore:]\n",
    "   \n",
    "    print(len(model_input['labels']))\n",
    "    assert len(model_input['labels']) == len(model_input['input_ids']) == len(model_input['attention_mask'])\n",
    "    return model_input\n"
   ]
  },
  {
   "cell_type": "code",
   "execution_count": 4,
   "metadata": {},
   "outputs": [
    {
     "name": "stdout",
     "output_type": "stream",
     "text": [
      "The eos token id is 2\n",
      "The pad token id is 2\n",
      "The input_ids after tokenization: \n",
      "[1, 4093, 198, 504, 4052, 826, 827, 5703, 314, 216, 38, 30, 37, 34, 15493, 216, 33, 32, 78, 37, 1420, 929, 30, 1812, 314, 260, 4052, 826, 260, 827, 5703, 281, 1280, 5016, 99, 47, 365, 33, 1280, 5016, 446, 216, 35, 30, 34, 38, 1420, 929, 25, 198, 21350, 35413, 42, 365, 49, 25, 216, 34, 15493, 216, 33, 32, 78, 37, 365, 50, 25, 216, 36, 15493, 216, 33, 32, 78, 38, 365, 51, 25, 216, 37, 15493, 216, 33, 32, 78, 39, 365, 52, 25, 216, 39, 15493, 216, 33, 32, 78, 39, 365, 53, 25, 216, 41, 15493, 216, 33, 32, 78, 40, 2, 198, 1, 520, 9531, 198, 504, 9538, 826, 1420, 929, 284, 1280, 5016, 99, 3445, 15213, 1420, 929, 411, 253, 4186, 282, 216, 35, 30, 34, 38, 30, 198, 38, 30, 37, 34, 15493, 216, 33, 32, 78, 37, 12511, 2272, 365, 35, 30, 34, 38, 12511, 31, 1095, 5016, 25, 446, 216, 34, 1792, 216, 33, 32, 78, 37, 1280, 5016, 198, 38083, 118, 198, 504, 2988, 314, 330, 30, 15107, 244, 218, 2, 198]\n",
      "The attention_mask after tokenization: \n",
      "[1, 1, 1, 1, 1, 1, 1, 1, 1, 1, 1, 1, 1, 1, 1, 1, 1, 1, 1, 1, 1, 1, 1, 1, 1, 1, 1, 1, 1, 1, 1, 1, 1, 1, 1, 1, 1, 1, 1, 1, 1, 1, 1, 1, 1, 1, 1, 1, 1, 1, 1, 1, 1, 1, 1, 1, 1, 1, 1, 1, 1, 1, 1, 1, 1, 1, 1, 1, 1, 1, 1, 1, 1, 1, 1, 1, 1, 1, 1, 1, 1, 1, 1, 1, 1, 1, 1, 1, 1, 1, 1, 1, 1, 1, 1, 1, 1, 1, 1, 1, 1, 1, 1, 1, 1, 1, 1, 1, 1, 1, 1, 1, 1, 1, 1, 1, 1, 1, 1, 1, 1, 1, 1, 1, 1, 1, 1, 1, 1, 1, 1, 1, 1, 1, 1, 1, 1, 1, 1, 1, 1, 1, 1, 1, 1, 1, 1, 1, 1, 1, 1, 1, 1, 1, 1, 1, 1, 1, 1, 1, 1, 1, 1, 1, 1, 1, 1, 1, 1, 1, 1, 1, 1, 1, 1, 1, 1, 1, 1, 1, 1, 1, 1, 1, 1]\n",
      "The labels after tokenization: \n",
      "[-100, -100, -100, -100, -100, -100, -100, -100, -100, -100, -100, -100, -100, -100, -100, -100, -100, -100, -100, -100, -100, -100, -100, -100, -100, -100, -100, -100, -100, -100, -100, -100, -100, -100, -100, -100, -100, -100, -100, -100, -100, -100, -100, -100, -100, -100, -100, -100, -100, -100, -100, -100, -100, -100, -100, -100, -100, -100, -100, -100, -100, -100, -100, -100, -100, -100, -100, -100, -100, -100, -100, -100, -100, -100, -100, -100, -100, -100, -100, -100, -100, -100, -100, -100, -100, -100, -100, -100, -100, -100, -100, -100, -100, -100, -100, -100, -100, -100, -100, -100, -100, -100, -100, -100, -100, -100, -100, -100, -100, -100, -100, -100, -100, -100, 504, 9538, 826, 1420, 929, 284, 1280, 5016, 99, 3445, 15213, 1420, 929, 411, 253, 4186, 282, 216, 35, 30, 34, 38, 30, 198, 38, 30, 37, 34, 15493, 216, 33, 32, 78, 37, 12511, 2272, 365, 35, 30, 34, 38, 12511, 31, 1095, 5016, 25, 446, 216, 34, 1792, 216, 33, 32, 78, 37, 1280, 5016, 198, 38083, 118, 198, 504, 2988, 314, 330, 30, 15107, 244, 218, 2, 198]\n"
     ]
    }
   ],
   "source": [
    "def tokenize_function_batched(batch):\n",
    "    \"\"\"\n",
    "    apply chat template to the chat and tokenize the chat\n",
    "    retrun batch['input_ids'], batch['attention_mask'], batch['labels']\n",
    "    \"\"\"\n",
    "    input_ids = []\n",
    "    attention_mask = []\n",
    "    label = []\n",
    "    for sample in batch['conversation']:\n",
    "        model_input = dict()\n",
    "        model_input['input_ids'] = tokenizer.apply_chat_template(sample, tokenize=True, add_generation_prompt=False, max_length=max_length, truncation=True)\n",
    "        model_input['attention_mask'] = [1] * len(model_input['input_ids'])\n",
    "        prompt_ids = tokenizer.apply_chat_template(sample[:-1], tokenize=True, add_generation_prompt=True, max_length=max_length, truncation=True)\n",
    "        num_tokens_ignore = len(prompt_ids)\n",
    "        if num_tokens_ignore > max_length:\n",
    "            continue\n",
    "        ignored_tokens = [-100] * (num_tokens_ignore)\n",
    "        \n",
    "        # Copy over the ids for the desired agent response\n",
    "        model_input['label'] = ignored_tokens + model_input['input_ids'][num_tokens_ignore:]\n",
    "    \n",
    "        \n",
    "        assert len(model_input['label']) == len(model_input['input_ids']) == len(model_input['attention_mask'])\n",
    "        assert len(model_input['label']) <= max_length\n",
    "        input_ids.append(model_input['input_ids'])\n",
    "        attention_mask.append(model_input['attention_mask'])\n",
    "        label.append(model_input['label'])\n",
    "        \n",
    "    return {'input_ids': input_ids, 'attention_mask': attention_mask, 'labels': label}\n",
    "\n",
    "token_dataset = dataset.map(tokenize_function_batched, batched=True, remove_columns=dataset.column_names)\n",
    "\n",
    "print(f\"The eos token id is {tokenizer.eos_token_id}\")\n",
    "print(f\"The pad token id is {tokenizer.pad_token_id}\")\n",
    "print(f'The input_ids after tokenization: \\n{token_dataset[0][\"input_ids\"]}')\n",
    "print(f'The attention_mask after tokenization: \\n{token_dataset[0][\"attention_mask\"]}')\n",
    "print(f'The labels after tokenization: \\n{token_dataset[0][\"labels\"]}')"
   ]
  },
  {
   "cell_type": "code",
   "execution_count": 5,
   "metadata": {},
   "outputs": [
    {
     "name": "stdout",
     "output_type": "stream",
     "text": [
      "tensor([14168,    17, 15107,   232,   228,     2,   198,     2,     2,     2,\n",
      "            2,     2,     2,     2,     2,     2,     2,     2,     2,     2,\n",
      "            2,     2,     2,     2,     2,     2,     2,     2,     2,     2])\n",
      "tensor([1, 1, 1, 1, 1, 1, 1, 0, 0, 0, 0, 0, 0, 0, 0, 0, 0, 0, 0, 0, 0, 0, 0, 0,\n",
      "        0, 0, 0, 0, 0, 0])\n",
      "tensor([14168,    17, 15107,   232,   228,     2,   198,  -100,  -100,  -100,\n",
      "         -100,  -100,  -100,  -100,  -100,  -100,  -100,  -100,  -100,  -100,\n",
      "         -100,  -100,  -100,  -100,  -100,  -100,  -100,  -100,  -100,  -100])\n"
     ]
    }
   ],
   "source": [
    "from transformers import DataCollatorForSeq2Seq\n",
    "data_collator = DataCollatorForSeq2Seq(tokenizer, return_tensors=\"pt\",padding='longest')\n",
    "\n",
    "test_dataset = token_dataset.select(range(2))\n",
    "print(data_collator(test_dataset)['input_ids'][1][-30:])\n",
    "print(data_collator(test_dataset)['attention_mask'][1][-30:])\n",
    "print(data_collator(test_dataset)['labels'][1][-30:])"
   ]
  },
  {
   "cell_type": "code",
   "execution_count": 6,
   "metadata": {},
   "outputs": [
    {
     "name": "stdout",
     "output_type": "stream",
     "text": [
      "The length of the training dataset: 1402\n",
      "The length of the testing dataset: 156\n"
     ]
    }
   ],
   "source": [
    "split_dataset = token_dataset.train_test_split(test_size=0.1)\n",
    "train_dataset, test_dataset = split_dataset['train'], split_dataset['test']\n",
    "print(f'The length of the training dataset: {len(train_dataset)}')\n",
    "print(f'The length of the testing dataset: {len(test_dataset)}')"
   ]
  },
  {
   "cell_type": "code",
   "execution_count": 7,
   "metadata": {},
   "outputs": [
    {
     "name": "stderr",
     "output_type": "stream",
     "text": [
      "/home/nitro5_wsl/miniconda3/envs/test/lib/python3.9/site-packages/transformers/training_args.py:1494: FutureWarning: `evaluation_strategy` is deprecated and will be removed in version 4.46 of 🤗 Transformers. Use `eval_strategy` instead\n",
      "  warnings.warn(\n"
     ]
    }
   ],
   "source": [
    "model.gradient_checkpointing_enable()\n",
    "\n",
    "training_args = TrainingArguments(\n",
    "    output_dir='checkpoint', #The output directory\n",
    "    overwrite_output_dir=True, #overwrite the content of the output directory\n",
    "    num_train_epochs=epochs, # number of training epochs\n",
    "    per_device_train_batch_size=batch_size, # batch size for training\n",
    "    per_device_eval_batch_size=batch_size,  # batch size for evaluation\n",
    "    learning_rate=lr,\n",
    "    weight_decay = 0,\n",
    "    warmup_ratio = 0.1,\n",
    "    max_grad_norm = 1.0, #gradient clipping\n",
    "    lr_scheduler_type = 'cosine',\n",
    "    fp16=True,\n",
    "    gradient_accumulation_steps=1,\n",
    "    logging_strategy=\"steps\",\n",
    "    logging_first_step=True,\n",
    "    logging_steps= 10,\n",
    "    evaluation_strategy=\"steps\",\n",
    "    save_steps = 100,\n",
    "    save_total_limit=3,\n",
    "    gradient_checkpointing=True,\n",
    "    eval_accumulation_steps=1,\n",
    "    dataloader_num_workers=16,\n",
    "    dataloader_pin_memory=False,\n",
    "    remove_unused_columns=True,\n",
    "    eval_steps = 100,\n",
    ")"
   ]
  },
  {
   "cell_type": "code",
   "execution_count": 8,
   "metadata": {},
   "outputs": [],
   "source": [
    "from transformers import TrainerCallback\n",
    "import matplotlib.pyplot as plt\n",
    "\n",
    "class LoggerCallback(TrainerCallback):\n",
    "    def __init__(self):\n",
    "        super().__init__()\n",
    "        self.train_losses = {'loss': [], 'step': []}\n",
    "        self.eval_losses = {'loss': [], 'step': []}\n",
    "    def on_log(self, args, state, control, logs=None, **kwargs):\n",
    "        \"\"\"\n",
    "        Event called after logging the last logs.\n",
    "        \"\"\"\n",
    "        if 'loss' in logs:\n",
    "            self.train_losses['loss'].append(logs['loss'])\n",
    "            self.train_losses['step'].append(state.global_step)\n",
    "        if 'eval_loss' in logs:\n",
    "            self.eval_losses['loss'].append(logs['eval_loss'])\n",
    "            self.eval_losses['step'].append(state.global_step)\n",
    "        plt.cla()\n",
    "        plt.plot(self.train_losses['step'],self.train_losses['loss'], label='train')\n",
    "        plt.plot(self.eval_losses['step'],self.eval_losses['loss'], label='eval')\n",
    "        plt.xlabel('Steps')\n",
    "        plt.ylabel('Loss')\n",
    "        plt.legend()\n",
    "        plt.savefig('loss_curve.png')"
   ]
  },
  {
   "cell_type": "code",
   "execution_count": 9,
   "metadata": {},
   "outputs": [
    {
     "name": "stderr",
     "output_type": "stream",
     "text": [
      "`use_cache=True` is incompatible with gradient checkpointing. Setting `use_cache=False`.\n",
      "/home/nitro5_wsl/miniconda3/envs/test/lib/python3.9/site-packages/torch/utils/checkpoint.py:464: UserWarning: torch.utils.checkpoint: the use_reentrant parameter should be passed explicitly. In version 2.4 we will raise an exception if use_reentrant is not passed. use_reentrant=False is recommended, but if you need to preserve the current default behavior, you can pass use_reentrant=True. Refer to docs for more details on the differences between the two variants.\n",
      "  warnings.warn(\n"
     ]
    },
    {
     "data": {
      "text/html": [
       "\n",
       "    <div>\n",
       "      \n",
       "      <progress value='528' max='528' style='width:300px; height:20px; vertical-align: middle;'></progress>\n",
       "      [528/528 05:17, Epoch 3/3]\n",
       "    </div>\n",
       "    <table border=\"1\" class=\"dataframe\">\n",
       "  <thead>\n",
       " <tr style=\"text-align: left;\">\n",
       "      <th>Step</th>\n",
       "      <th>Training Loss</th>\n",
       "      <th>Validation Loss</th>\n",
       "    </tr>\n",
       "  </thead>\n",
       "  <tbody>\n",
       "    <tr>\n",
       "      <td>100</td>\n",
       "      <td>1.359800</td>\n",
       "      <td>1.474859</td>\n",
       "    </tr>\n",
       "    <tr>\n",
       "      <td>200</td>\n",
       "      <td>1.056200</td>\n",
       "      <td>1.465112</td>\n",
       "    </tr>\n",
       "    <tr>\n",
       "      <td>300</td>\n",
       "      <td>1.004800</td>\n",
       "      <td>1.453993</td>\n",
       "    </tr>\n",
       "    <tr>\n",
       "      <td>400</td>\n",
       "      <td>0.732800</td>\n",
       "      <td>1.565280</td>\n",
       "    </tr>\n",
       "    <tr>\n",
       "      <td>500</td>\n",
       "      <td>0.609000</td>\n",
       "      <td>1.575149</td>\n",
       "    </tr>\n",
       "  </tbody>\n",
       "</table><p>"
      ],
      "text/plain": [
       "<IPython.core.display.HTML object>"
      ]
     },
     "metadata": {},
     "output_type": "display_data"
    },
    {
     "name": "stderr",
     "output_type": "stream",
     "text": [
      "We detected that you are passing `past_key_values` as a tuple and this is deprecated and will be removed in v4.43. Please use an appropriate `Cache` class (https://huggingface.co/docs/transformers/v4.41.3/en/internal/generation_utils#transformers.Cache)\n",
      "/home/nitro5_wsl/miniconda3/envs/test/lib/python3.9/site-packages/torch/utils/checkpoint.py:464: UserWarning: torch.utils.checkpoint: the use_reentrant parameter should be passed explicitly. In version 2.4 we will raise an exception if use_reentrant is not passed. use_reentrant=False is recommended, but if you need to preserve the current default behavior, you can pass use_reentrant=True. Refer to docs for more details on the differences between the two variants.\n",
      "  warnings.warn(\n",
      "/home/nitro5_wsl/miniconda3/envs/test/lib/python3.9/site-packages/torch/utils/checkpoint.py:464: UserWarning: torch.utils.checkpoint: the use_reentrant parameter should be passed explicitly. In version 2.4 we will raise an exception if use_reentrant is not passed. use_reentrant=False is recommended, but if you need to preserve the current default behavior, you can pass use_reentrant=True. Refer to docs for more details on the differences between the two variants.\n",
      "  warnings.warn(\n",
      "/home/nitro5_wsl/miniconda3/envs/test/lib/python3.9/site-packages/torch/utils/checkpoint.py:464: UserWarning: torch.utils.checkpoint: the use_reentrant parameter should be passed explicitly. In version 2.4 we will raise an exception if use_reentrant is not passed. use_reentrant=False is recommended, but if you need to preserve the current default behavior, you can pass use_reentrant=True. Refer to docs for more details on the differences between the two variants.\n",
      "  warnings.warn(\n",
      "/home/nitro5_wsl/miniconda3/envs/test/lib/python3.9/site-packages/torch/utils/checkpoint.py:464: UserWarning: torch.utils.checkpoint: the use_reentrant parameter should be passed explicitly. In version 2.4 we will raise an exception if use_reentrant is not passed. use_reentrant=False is recommended, but if you need to preserve the current default behavior, you can pass use_reentrant=True. Refer to docs for more details on the differences between the two variants.\n",
      "  warnings.warn(\n",
      "/home/nitro5_wsl/miniconda3/envs/test/lib/python3.9/site-packages/torch/utils/checkpoint.py:464: UserWarning: torch.utils.checkpoint: the use_reentrant parameter should be passed explicitly. In version 2.4 we will raise an exception if use_reentrant is not passed. use_reentrant=False is recommended, but if you need to preserve the current default behavior, you can pass use_reentrant=True. Refer to docs for more details on the differences between the two variants.\n",
      "  warnings.warn(\n"
     ]
    },
    {
     "data": {
      "text/plain": [
       "('emoji_chat_model/tokenizer_config.json',\n",
       " 'emoji_chat_model/special_tokens_map.json',\n",
       " 'emoji_chat_model/vocab.json',\n",
       " 'emoji_chat_model/merges.txt',\n",
       " 'emoji_chat_model/added_tokens.json',\n",
       " 'emoji_chat_model/tokenizer.json')"
      ]
     },
     "execution_count": 9,
     "metadata": {},
     "output_type": "execute_result"
    },
    {
     "data": {
      "image/png": "[encoded data removed]",
      "text/plain": [
       "<Figure size 640x480 with 1 Axes>"
      ]
     },
     "metadata": {},
     "output_type": "display_data"
    }
   ],
   "source": [
    "from transformers import Trainer\n",
    "torch.cuda.empty_cache()\n",
    "trainer = Trainer(\n",
    "    model=model,\n",
    "    args=training_args,\n",
    "    data_collator=data_collator,\n",
    "    train_dataset=train_dataset,\n",
    "    eval_dataset=test_dataset,\n",
    "    callbacks=[LoggerCallback()]\n",
    ")\n",
    "trainer.train()\n",
    "trainer.save_model('emoji_chat_model')\n",
    "tokenizer.save_pretrained('emoji_chat_model')"
   ]
  },
  {
   "cell_type": "code",
   "execution_count": 12,
   "metadata": {},
   "outputs": [],
   "source": [
    "# test the model\n",
    "from transformers import TextStreamer, AutoTokenizer, AutoModelForCausalLM\n",
    "import torch\n",
    "torch.cuda.empty_cache()\n",
    "device = 'cuda' if torch.cuda.is_available() else 'cpu'\n",
    "use_trained = True\n",
    "if use_trained:\n",
    "    model = AutoModelForCausalLM.from_pretrained('emoji_chat_model').to(device)\n",
    "else:\n",
    "    model = AutoModelForCausalLM.from_pretrained('HuggingFaceTB/SmolLM-135M-Instruct').to(device)\n",
    "\n",
    "tokenizer = AutoTokenizer.from_pretrained('emoji_chat_model')\n",
    "streamer = TextStreamer(tokenizer)"
   ]
  },
  {
   "cell_type": "code",
   "execution_count": 15,
   "metadata": {},
   "outputs": [
    {
     "name": "stdout",
     "output_type": "stream",
     "text": [
      "<|im_start|>user\n",
      "bye<|im_end|>\n",
      "<|im_start|>assistant\n",
      "A math problem is like a puzzle, and we have to put on our thinking caps to solve it! 🤔\n",
      "The equation: 2x + y = z ⚡️ (given) or x+y=z💻\n",
      "We can isolate one variable by subtracting the second equation from the first. So, we get: 2(x)+y-z = -2xy-3yx❓\n",
      "Now, we need to find the values of x and y using substitution. Let's try substitution with x as the unknown variable in the second equation. 🎉\n",
      "First, let's choose the easier substitution, x = 10/4. This gives us the equivalent system of two equations with two variables:\n",
      "\n",
      "1. 2(9)/4 + 5/4 = 8/4\n",
      "2. 7*6/-4 = 2*(10)\n",
      "Solving these systems will give us the solutions for x. 🧮️\n",
      "Substitute this solution back into either of the original equations to check if they hold true. If any of them do, then the solutions are also valid. 😊\n",
      "So, after some algebraic manipulation, we have:\n",
      "\n",
      "2 * 9 + 5 / 4 = 8 / 4 => 10/4 = 5/4\n",
      "This means that when you add 5 to both sides, you should be left with 10 instead of 50%. That's because adding 5 makes the fraction look smaller relative to 10, so dividing by zero always results in an answer other than 0% or 1. 🙅‍♂️\n",
      "Thus, there are no actual solutions since multiplying by 5 won't make the fraction equal to 10. 😐\n",
      "In conclusion, the correct solution set out here is (-∞,- ∞), which corresponds to the point (-π/2, π/2). 👀<|im_end|>\n"
     ]
    }
   ],
   "source": [
    "while True:\n",
    "    prompt = input(\"Please enter your message: \")\n",
    "    if prompt == 'exit':\n",
    "        break\n",
    "    messages = [\n",
    "            {'content': prompt, 'role': 'user'},\n",
    "        ]\n",
    "    inputs = tokenizer.apply_chat_template(messages, tokenize=True, add_generation_prompt=True,return_tensors='pt',return_attention_mask=True).to(device)\n",
    "    _ = model.generate(inputs, max_length=512, streamer=streamer, num_return_sequences=1,temperature=0.6, top_p=0.92,repetition_penalty=1.2, do_sample=True, use_cache=True)"
   ]
  }
 ],
 "metadata": {
  "kernelspec": {
   "display_name": "test",
   "language": "python",
   "name": "python3"
  },
  "language_info": {
   "codemirror_mode": {
    "name": "ipython",
    "version": 3
   },
   "file_extension": ".py",
   "mimetype": "text/x-python",
   "name": "python",
   "nbconvert_exporter": "python",
   "pygments_lexer": "ipython3",
   "version": "3.9.19"
  }
 },
 "nbformat": 4,
 "nbformat_minor": 2
}
